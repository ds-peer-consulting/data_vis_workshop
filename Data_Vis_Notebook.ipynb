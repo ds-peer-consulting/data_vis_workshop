{
 "cells": [
  {
   "cell_type": "markdown",
   "metadata": {},
   "source": [
    "# Welcome to the Data Visualization Workshop! \n",
    "# Brought to you by Sammy and Sammy\n"
   ]
  },
  {
   "cell_type": "code",
   "execution_count": 2,
   "metadata": {},
   "outputs": [],
   "source": [
    "!pip install --upgrade numpy -q\n",
    "!pip install --upgrade bokeh -q\n",
    "\n",
    "import pandas as pd\n",
    "import numpy as np\n",
    "import math\n",
    "import matplotlib.pyplot as plt\n",
    "import seaborn as sns\n",
    "import bokeh\n",
    "plt.style.use('fivethirtyeight')\n",
    "import ipywidgets as widgets\n",
    "%matplotlib inline"
   ]
  },
  {
   "cell_type": "markdown",
   "metadata": {},
   "source": [
    "*Matplotlib Section*"
   ]
  },
  {
   "cell_type": "code",
   "execution_count": 28,
   "metadata": {},
   "outputs": [
    {
     "data": {
      "text/html": [
       "<div>\n",
       "<style scoped>\n",
       "    .dataframe tbody tr th:only-of-type {\n",
       "        vertical-align: middle;\n",
       "    }\n",
       "\n",
       "    .dataframe tbody tr th {\n",
       "        vertical-align: top;\n",
       "    }\n",
       "\n",
       "    .dataframe thead th {\n",
       "        text-align: right;\n",
       "    }\n",
       "</style>\n",
       "<table border=\"1\" class=\"dataframe\">\n",
       "  <thead>\n",
       "    <tr style=\"text-align: right;\">\n",
       "      <th></th>\n",
       "      <th>city</th>\n",
       "      <th>Unnamed: 0</th>\n",
       "      <th>rating</th>\n",
       "      <th>lat</th>\n",
       "      <th>long</th>\n",
       "    </tr>\n",
       "  </thead>\n",
       "  <tbody>\n",
       "    <tr>\n",
       "      <td>0</td>\n",
       "      <td>Alameda</td>\n",
       "      <td>274.555556</td>\n",
       "      <td>3.611111</td>\n",
       "      <td>37.767759</td>\n",
       "      <td>-122.250787</td>\n",
       "    </tr>\n",
       "    <tr>\n",
       "      <td>1</td>\n",
       "      <td>Albany</td>\n",
       "      <td>527.000000</td>\n",
       "      <td>3.500000</td>\n",
       "      <td>37.890230</td>\n",
       "      <td>-122.296260</td>\n",
       "    </tr>\n",
       "    <tr>\n",
       "      <td>2</td>\n",
       "      <td>American Canyon</td>\n",
       "      <td>189.500000</td>\n",
       "      <td>3.500000</td>\n",
       "      <td>38.169563</td>\n",
       "      <td>-122.254208</td>\n",
       "    </tr>\n",
       "    <tr>\n",
       "      <td>3</td>\n",
       "      <td>Antioch</td>\n",
       "      <td>487.250000</td>\n",
       "      <td>3.750000</td>\n",
       "      <td>37.993642</td>\n",
       "      <td>-121.816708</td>\n",
       "    </tr>\n",
       "    <tr>\n",
       "      <td>4</td>\n",
       "      <td>Belmont</td>\n",
       "      <td>512.666667</td>\n",
       "      <td>3.833333</td>\n",
       "      <td>37.517720</td>\n",
       "      <td>-122.282454</td>\n",
       "    </tr>\n",
       "    <tr>\n",
       "      <td>5</td>\n",
       "      <td>Benicia</td>\n",
       "      <td>489.333333</td>\n",
       "      <td>4.166667</td>\n",
       "      <td>38.056272</td>\n",
       "      <td>-122.158937</td>\n",
       "    </tr>\n",
       "    <tr>\n",
       "      <td>6</td>\n",
       "      <td>Berkeley</td>\n",
       "      <td>196.800000</td>\n",
       "      <td>3.850000</td>\n",
       "      <td>37.869487</td>\n",
       "      <td>-122.263191</td>\n",
       "    </tr>\n",
       "    <tr>\n",
       "      <td>7</td>\n",
       "      <td>Brentwood</td>\n",
       "      <td>458.666667</td>\n",
       "      <td>4.000000</td>\n",
       "      <td>37.947816</td>\n",
       "      <td>-121.723177</td>\n",
       "    </tr>\n",
       "    <tr>\n",
       "      <td>8</td>\n",
       "      <td>Brisbane</td>\n",
       "      <td>129.000000</td>\n",
       "      <td>4.500000</td>\n",
       "      <td>37.683464</td>\n",
       "      <td>-122.402889</td>\n",
       "    </tr>\n",
       "    <tr>\n",
       "      <td>9</td>\n",
       "      <td>Burlingame</td>\n",
       "      <td>405.000000</td>\n",
       "      <td>4.357143</td>\n",
       "      <td>37.582543</td>\n",
       "      <td>-122.351709</td>\n",
       "    </tr>\n",
       "  </tbody>\n",
       "</table>\n",
       "</div>"
      ],
      "text/plain": [
       "              city  Unnamed: 0    rating        lat        long\n",
       "0          Alameda  274.555556  3.611111  37.767759 -122.250787\n",
       "1           Albany  527.000000  3.500000  37.890230 -122.296260\n",
       "2  American Canyon  189.500000  3.500000  38.169563 -122.254208\n",
       "3          Antioch  487.250000  3.750000  37.993642 -121.816708\n",
       "4          Belmont  512.666667  3.833333  37.517720 -122.282454\n",
       "5          Benicia  489.333333  4.166667  38.056272 -122.158937\n",
       "6         Berkeley  196.800000  3.850000  37.869487 -122.263191\n",
       "7        Brentwood  458.666667  4.000000  37.947816 -121.723177\n",
       "8         Brisbane  129.000000  4.500000  37.683464 -122.402889\n",
       "9       Burlingame  405.000000  4.357143  37.582543 -122.351709"
      ]
     },
     "execution_count": 28,
     "metadata": {},
     "output_type": "execute_result"
    }
   ],
   "source": [
    "boba = pd.read_csv('bayarea_boba_spots.csv')\n",
    "boba.iloc[:, 2:]\n",
    "counts = boba.groupby('city').count().reset_index()\n",
    "berk_boba = boba[(boba['rating']>=3)]\n",
    "counts = berk_boba.groupby('city').mean().reset_index().head(10)\n",
    "counts\n",
    "#plt.bar(counts['city'], counts['name'])"
   ]
  },
  {
   "cell_type": "code",
   "execution_count": null,
   "metadata": {},
   "outputs": [],
   "source": []
  },
  {
   "cell_type": "code",
   "execution_count": null,
   "metadata": {},
   "outputs": [],
   "source": []
  },
  {
   "cell_type": "code",
   "execution_count": null,
   "metadata": {},
   "outputs": [],
   "source": []
  },
  {
   "cell_type": "code",
   "execution_count": null,
   "metadata": {},
   "outputs": [],
   "source": []
  },
  {
   "cell_type": "code",
   "execution_count": null,
   "metadata": {},
   "outputs": [],
   "source": []
  },
  {
   "cell_type": "markdown",
   "metadata": {},
   "source": [
    "*Seaborn Section*"
   ]
  },
  {
   "cell_type": "code",
   "execution_count": null,
   "metadata": {},
   "outputs": [],
   "source": []
  },
  {
   "cell_type": "code",
   "execution_count": null,
   "metadata": {},
   "outputs": [],
   "source": []
  },
  {
   "cell_type": "code",
   "execution_count": null,
   "metadata": {},
   "outputs": [],
   "source": []
  },
  {
   "cell_type": "code",
   "execution_count": null,
   "metadata": {},
   "outputs": [],
   "source": []
  },
  {
   "cell_type": "code",
   "execution_count": null,
   "metadata": {},
   "outputs": [],
   "source": []
  },
  {
   "cell_type": "code",
   "execution_count": null,
   "metadata": {},
   "outputs": [],
   "source": []
  },
  {
   "cell_type": "markdown",
   "metadata": {},
   "source": [
    "*Bokeh Section*"
   ]
  },
  {
   "cell_type": "code",
   "execution_count": null,
   "metadata": {},
   "outputs": [],
   "source": []
  },
  {
   "cell_type": "code",
   "execution_count": null,
   "metadata": {},
   "outputs": [],
   "source": []
  },
  {
   "cell_type": "code",
   "execution_count": null,
   "metadata": {},
   "outputs": [],
   "source": []
  },
  {
   "cell_type": "code",
   "execution_count": null,
   "metadata": {},
   "outputs": [],
   "source": []
  },
  {
   "cell_type": "code",
   "execution_count": null,
   "metadata": {},
   "outputs": [],
   "source": []
  },
  {
   "cell_type": "code",
   "execution_count": null,
   "metadata": {},
   "outputs": [],
   "source": []
  }
 ],
 "metadata": {
  "kernelspec": {
   "display_name": "Python 3",
   "language": "python",
   "name": "python3"
  },
  "language_info": {
   "codemirror_mode": {
    "name": "ipython",
    "version": 3
   },
   "file_extension": ".py",
   "mimetype": "text/x-python",
   "name": "python",
   "nbconvert_exporter": "python",
   "pygments_lexer": "ipython3",
   "version": "3.7.4"
  }
 },
 "nbformat": 4,
 "nbformat_minor": 2
}
