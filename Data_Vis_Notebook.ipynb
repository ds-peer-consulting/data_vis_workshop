{
 "cells": [
  {
   "cell_type": "markdown",
   "metadata": {},
   "source": [
    "# Welcome to the Data Visualization Workshop! \n",
    "# Brought to you by Sammy and Sammy\n"
   ]
  },
  {
   "cell_type": "code",
   "execution_count": 21,
   "metadata": {},
   "outputs": [
    {
     "name": "stdout",
     "output_type": "stream",
     "text": [
      "\u001b[31mException:\r\n",
      "Traceback (most recent call last):\r\n",
      "  File \"/Users/samanthatang/anaconda3/lib/python3.6/site-packages/pip/_vendor/urllib3/contrib/pyopenssl.py\", line 294, in recv_into\r\n",
      "    return self.connection.recv_into(*args, **kwargs)\r\n",
      "  File \"/Users/samanthatang/anaconda3/lib/python3.6/site-packages/OpenSSL/SSL.py\", line 1822, in recv_into\r\n",
      "    self._raise_ssl_error(self._ssl, result)\r\n",
      "  File \"/Users/samanthatang/anaconda3/lib/python3.6/site-packages/OpenSSL/SSL.py\", line 1622, in _raise_ssl_error\r\n",
      "    raise WantReadError()\r\n",
      "OpenSSL.SSL.WantReadError\r\n",
      "\r\n",
      "During handling of the above exception, another exception occurred:\r\n",
      "\r\n",
      "Traceback (most recent call last):\r\n",
      "  File \"/Users/samanthatang/anaconda3/lib/python3.6/site-packages/pip/_vendor/urllib3/contrib/pyopenssl.py\", line 294, in recv_into\r\n",
      "    return self.connection.recv_into(*args, **kwargs)\r\n",
      "  File \"/Users/samanthatang/anaconda3/lib/python3.6/site-packages/OpenSSL/SSL.py\", line 1822, in recv_into\r\n",
      "    self._raise_ssl_error(self._ssl, result)\r\n",
      "  File \"/Users/samanthatang/anaconda3/lib/python3.6/site-packages/OpenSSL/SSL.py\", line 1622, in _raise_ssl_error\r\n",
      "    raise WantReadError()\r\n",
      "OpenSSL.SSL.WantReadError\r\n",
      "\r\n",
      "During handling of the above exception, another exception occurred:\r\n",
      "\r\n",
      "Traceback (most recent call last):\r\n",
      "  File \"/Users/samanthatang/anaconda3/lib/python3.6/site-packages/pip/_vendor/urllib3/contrib/pyopenssl.py\", line 294, in recv_into\r\n",
      "    return self.connection.recv_into(*args, **kwargs)\r\n",
      "  File \"/Users/samanthatang/anaconda3/lib/python3.6/site-packages/OpenSSL/SSL.py\", line 1822, in recv_into\r\n",
      "    self._raise_ssl_error(self._ssl, result)\r\n",
      "  File \"/Users/samanthatang/anaconda3/lib/python3.6/site-packages/OpenSSL/SSL.py\", line 1622, in _raise_ssl_error\r\n",
      "    raise WantReadError()\r\n",
      "OpenSSL.SSL.WantReadError\r\n",
      "\r\n",
      "During handling of the above exception, another exception occurred:\r\n",
      "\r\n",
      "Traceback (most recent call last):\r\n",
      "  File \"/Users/samanthatang/anaconda3/lib/python3.6/site-packages/pip/_vendor/urllib3/contrib/pyopenssl.py\", line 294, in recv_into\r\n",
      "    return self.connection.recv_into(*args, **kwargs)\r\n",
      "  File \"/Users/samanthatang/anaconda3/lib/python3.6/site-packages/OpenSSL/SSL.py\", line 1822, in recv_into\r\n",
      "    self._raise_ssl_error(self._ssl, result)\r\n",
      "  File \"/Users/samanthatang/anaconda3/lib/python3.6/site-packages/OpenSSL/SSL.py\", line 1622, in _raise_ssl_error\r\n",
      "    raise WantReadError()\r\n",
      "OpenSSL.SSL.WantReadError\r\n",
      "\r\n",
      "During handling of the above exception, another exception occurred:\r\n",
      "\r\n",
      "Traceback (most recent call last):\r\n",
      "  File \"/Users/samanthatang/anaconda3/lib/python3.6/site-packages/pip/_vendor/urllib3/contrib/pyopenssl.py\", line 294, in recv_into\r\n",
      "    return self.connection.recv_into(*args, **kwargs)\r\n",
      "  File \"/Users/samanthatang/anaconda3/lib/python3.6/site-packages/OpenSSL/SSL.py\", line 1822, in recv_into\r\n",
      "    self._raise_ssl_error(self._ssl, result)\r\n",
      "  File \"/Users/samanthatang/anaconda3/lib/python3.6/site-packages/OpenSSL/SSL.py\", line 1622, in _raise_ssl_error\r\n",
      "    raise WantReadError()\r\n",
      "OpenSSL.SSL.WantReadError\r\n",
      "\r\n",
      "During handling of the above exception, another exception occurred:\r\n",
      "\r\n",
      "Traceback (most recent call last):\r\n",
      "  File \"/Users/samanthatang/anaconda3/lib/python3.6/site-packages/pip/_vendor/urllib3/response.py\", line 360, in _error_catcher\r\n",
      "    yield\r\n",
      "  File \"/Users/samanthatang/anaconda3/lib/python3.6/site-packages/pip/_vendor/urllib3/response.py\", line 442, in read\r\n",
      "    data = self._fp.read(amt)\r\n",
      "  File \"/Users/samanthatang/anaconda3/lib/python3.6/site-packages/pip/_vendor/cachecontrol/filewrapper.py\", line 62, in read\r\n",
      "    data = self.__fp.read(amt)\r\n",
      "  File \"/Users/samanthatang/anaconda3/lib/python3.6/http/client.py\", line 449, in read\r\n",
      "    n = self.readinto(b)\r\n",
      "  File \"/Users/samanthatang/anaconda3/lib/python3.6/http/client.py\", line 493, in readinto\r\n",
      "    n = self.fp.readinto(b)\r\n",
      "  File \"/Users/samanthatang/anaconda3/lib/python3.6/socket.py\", line 586, in readinto\r\n",
      "    return self._sock.recv_into(b)\r\n",
      "  File \"/Users/samanthatang/anaconda3/lib/python3.6/site-packages/pip/_vendor/urllib3/contrib/pyopenssl.py\", line 309, in recv_into\r\n",
      "    return self.recv_into(*args, **kwargs)\r\n",
      "  File \"/Users/samanthatang/anaconda3/lib/python3.6/site-packages/pip/_vendor/urllib3/contrib/pyopenssl.py\", line 309, in recv_into\r\n",
      "    return self.recv_into(*args, **kwargs)\r\n",
      "  File \"/Users/samanthatang/anaconda3/lib/python3.6/site-packages/pip/_vendor/urllib3/contrib/pyopenssl.py\", line 309, in recv_into\r\n",
      "    return self.recv_into(*args, **kwargs)\r\n",
      "  [Previous line repeated 1 more time]\r\n",
      "  File \"/Users/samanthatang/anaconda3/lib/python3.6/site-packages/pip/_vendor/urllib3/contrib/pyopenssl.py\", line 307, in recv_into\r\n",
      "    raise timeout('The read operation timed out')\r\n",
      "socket.timeout: The read operation timed out\r\n",
      "\r\n",
      "During handling of the above exception, another exception occurred:\r\n",
      "\r\n",
      "Traceback (most recent call last):\r\n",
      "  File \"/Users/samanthatang/anaconda3/lib/python3.6/site-packages/pip/_internal/cli/base_command.py\", line 179, in main\r\n",
      "    status = self.run(options, args)\r\n",
      "  File \"/Users/samanthatang/anaconda3/lib/python3.6/site-packages/pip/_internal/commands/install.py\", line 315, in run\r\n",
      "    resolver.resolve(requirement_set)\r\n",
      "  File \"/Users/samanthatang/anaconda3/lib/python3.6/site-packages/pip/_internal/resolve.py\", line 131, in resolve\r\n",
      "    self._resolve_one(requirement_set, req)\r\n",
      "  File \"/Users/samanthatang/anaconda3/lib/python3.6/site-packages/pip/_internal/resolve.py\", line 294, in _resolve_one\r\n",
      "    abstract_dist = self._get_abstract_dist_for(req_to_install)\r\n",
      "  File \"/Users/samanthatang/anaconda3/lib/python3.6/site-packages/pip/_internal/resolve.py\", line 242, in _get_abstract_dist_for\r\n",
      "    self.require_hashes\r\n",
      "  File \"/Users/samanthatang/anaconda3/lib/python3.6/site-packages/pip/_internal/operations/prepare.py\", line 334, in prepare_linked_requirement\r\n",
      "    progress_bar=self.progress_bar\r\n",
      "  File \"/Users/samanthatang/anaconda3/lib/python3.6/site-packages/pip/_internal/download.py\", line 878, in unpack_url\r\n",
      "    progress_bar=progress_bar\r\n",
      "  File \"/Users/samanthatang/anaconda3/lib/python3.6/site-packages/pip/_internal/download.py\", line 702, in unpack_http_url\r\n",
      "    progress_bar)\r\n",
      "  File \"/Users/samanthatang/anaconda3/lib/python3.6/site-packages/pip/_internal/download.py\", line 946, in _download_http_url\r\n",
      "    _download_url(resp, link, content_file, hashes, progress_bar)\r\n",
      "  File \"/Users/samanthatang/anaconda3/lib/python3.6/site-packages/pip/_internal/download.py\", line 639, in _download_url\r\n",
      "    hashes.check_against_chunks(downloaded_chunks)\r\n",
      "  File \"/Users/samanthatang/anaconda3/lib/python3.6/site-packages/pip/_internal/utils/hashes.py\", line 62, in check_against_chunks\r\n",
      "    for chunk in chunks:\r\n",
      "  File \"/Users/samanthatang/anaconda3/lib/python3.6/site-packages/pip/_internal/download.py\", line 607, in written_chunks\r\n",
      "    for chunk in chunks:\r\n",
      "  File \"/Users/samanthatang/anaconda3/lib/python3.6/site-packages/pip/_internal/download.py\", line 596, in resp_read\r\n",
      "    decode_content=False):\r\n",
      "  File \"/Users/samanthatang/anaconda3/lib/python3.6/site-packages/pip/_vendor/urllib3/response.py\", line 494, in stream\r\n",
      "    data = self.read(amt=amt, decode_content=decode_content)\r\n",
      "  File \"/Users/samanthatang/anaconda3/lib/python3.6/site-packages/pip/_vendor/urllib3/response.py\", line 459, in read\r\n",
      "    raise IncompleteRead(self._fp_bytes_read, self.length_remaining)\r\n",
      "  File \"/Users/samanthatang/anaconda3/lib/python3.6/contextlib.py\", line 99, in __exit__\r\n",
      "    self.gen.throw(type, value, traceback)\r\n",
      "  File \"/Users/samanthatang/anaconda3/lib/python3.6/site-packages/pip/_vendor/urllib3/response.py\", line 365, in _error_catcher\r\n",
      "    raise ReadTimeoutError(self._pool, None, 'Read timed out.')\r\n",
      "pip._vendor.urllib3.exceptions.ReadTimeoutError: HTTPSConnectionPool(host='files.pythonhosted.org', port=443): Read timed out.\u001b[0m\r\n"
     ]
    }
   ],
   "source": [
    "!pip install --upgrade numpy -q\n",
    "!pip install --upgrade bokeh -q\n",
    "\n",
    "import numpy as np\n",
    "import math\n",
    "import matplotlib.pyplot as plt\n",
    "import seaborn as sns\n",
    "import bokeh\n",
    "plt.style.use('fivethirtyeight')\n",
    "import ipywidgets as widgets\n",
    "%matplotlib inline"
   ]
  },
  {
   "cell_type": "markdown",
   "metadata": {},
   "source": [
    "*Matplotlib Section*"
   ]
  },
  {
   "cell_type": "code",
   "execution_count": null,
   "metadata": {},
   "outputs": [],
   "source": []
  },
  {
   "cell_type": "code",
   "execution_count": null,
   "metadata": {},
   "outputs": [],
   "source": []
  },
  {
   "cell_type": "code",
   "execution_count": null,
   "metadata": {},
   "outputs": [],
   "source": []
  },
  {
   "cell_type": "code",
   "execution_count": null,
   "metadata": {},
   "outputs": [],
   "source": []
  },
  {
   "cell_type": "code",
   "execution_count": null,
   "metadata": {},
   "outputs": [],
   "source": []
  },
  {
   "cell_type": "code",
   "execution_count": null,
   "metadata": {},
   "outputs": [],
   "source": []
  },
  {
   "cell_type": "markdown",
   "metadata": {},
   "source": [
    "*Seaborn Section*"
   ]
  },
  {
   "cell_type": "code",
   "execution_count": null,
   "metadata": {},
   "outputs": [],
   "source": []
  },
  {
   "cell_type": "code",
   "execution_count": null,
   "metadata": {},
   "outputs": [],
   "source": []
  },
  {
   "cell_type": "code",
   "execution_count": null,
   "metadata": {},
   "outputs": [],
   "source": []
  },
  {
   "cell_type": "code",
   "execution_count": null,
   "metadata": {},
   "outputs": [],
   "source": []
  },
  {
   "cell_type": "code",
   "execution_count": null,
   "metadata": {},
   "outputs": [],
   "source": []
  },
  {
   "cell_type": "code",
   "execution_count": null,
   "metadata": {},
   "outputs": [],
   "source": []
  },
  {
   "cell_type": "markdown",
   "metadata": {},
   "source": [
    "*Bokeh Section*"
   ]
  },
  {
   "cell_type": "markdown",
   "metadata": {},
   "source": [
    "# Bokeh!"
   ]
  },
  {
   "cell_type": "markdown",
   "metadata": {},
   "source": [
    "Bokeh is another data visualization library that is often more practical and interactive than matplotlib. Bokeh is usually great for large sets of data and/or presentations because of its versility. We'll be looking at some of the features/functions that Bokeh has to offer.\n",
    "\n",
    "We'll start off with some basics"
   ]
  },
  {
   "cell_type": "code",
   "execution_count": 20,
   "metadata": {},
   "outputs": [
    {
     "data": {
      "text/html": [
       "\n",
       "    <div class=\"bk-root\">\n",
       "        <a href=\"https://bokeh.pydata.org\" target=\"_blank\" class=\"bk-logo bk-logo-small bk-logo-notebook\"></a>\n",
       "        <span id=\"2112\">Loading BokehJS ...</span>\n",
       "    </div>"
      ]
     },
     "metadata": {},
     "output_type": "display_data"
    },
    {
     "data": {
      "application/javascript": [
       "\n",
       "(function(root) {\n",
       "  function now() {\n",
       "    return new Date();\n",
       "  }\n",
       "\n",
       "  var force = true;\n",
       "\n",
       "  if (typeof (root._bokeh_onload_callbacks) === \"undefined\" || force === true) {\n",
       "    root._bokeh_onload_callbacks = [];\n",
       "    root._bokeh_is_loading = undefined;\n",
       "  }\n",
       "\n",
       "  var JS_MIME_TYPE = 'application/javascript';\n",
       "  var HTML_MIME_TYPE = 'text/html';\n",
       "  var EXEC_MIME_TYPE = 'application/vnd.bokehjs_exec.v0+json';\n",
       "  var CLASS_NAME = 'output_bokeh rendered_html';\n",
       "\n",
       "  /**\n",
       "   * Render data to the DOM node\n",
       "   */\n",
       "  function render(props, node) {\n",
       "    var script = document.createElement(\"script\");\n",
       "    node.appendChild(script);\n",
       "  }\n",
       "\n",
       "  /**\n",
       "   * Handle when an output is cleared or removed\n",
       "   */\n",
       "  function handleClearOutput(event, handle) {\n",
       "    var cell = handle.cell;\n",
       "\n",
       "    var id = cell.output_area._bokeh_element_id;\n",
       "    var server_id = cell.output_area._bokeh_server_id;\n",
       "    // Clean up Bokeh references\n",
       "    if (id != null && id in Bokeh.index) {\n",
       "      Bokeh.index[id].model.document.clear();\n",
       "      delete Bokeh.index[id];\n",
       "    }\n",
       "\n",
       "    if (server_id !== undefined) {\n",
       "      // Clean up Bokeh references\n",
       "      var cmd = \"from bokeh.io.state import curstate; print(curstate().uuid_to_server['\" + server_id + \"'].get_sessions()[0].document.roots[0]._id)\";\n",
       "      cell.notebook.kernel.execute(cmd, {\n",
       "        iopub: {\n",
       "          output: function(msg) {\n",
       "            var id = msg.content.text.trim();\n",
       "            if (id in Bokeh.index) {\n",
       "              Bokeh.index[id].model.document.clear();\n",
       "              delete Bokeh.index[id];\n",
       "            }\n",
       "          }\n",
       "        }\n",
       "      });\n",
       "      // Destroy server and session\n",
       "      var cmd = \"import bokeh.io.notebook as ion; ion.destroy_server('\" + server_id + \"')\";\n",
       "      cell.notebook.kernel.execute(cmd);\n",
       "    }\n",
       "  }\n",
       "\n",
       "  /**\n",
       "   * Handle when a new output is added\n",
       "   */\n",
       "  function handleAddOutput(event, handle) {\n",
       "    var output_area = handle.output_area;\n",
       "    var output = handle.output;\n",
       "\n",
       "    // limit handleAddOutput to display_data with EXEC_MIME_TYPE content only\n",
       "    if ((output.output_type != \"display_data\") || (!output.data.hasOwnProperty(EXEC_MIME_TYPE))) {\n",
       "      return\n",
       "    }\n",
       "\n",
       "    var toinsert = output_area.element.find(\".\" + CLASS_NAME.split(' ')[0]);\n",
       "\n",
       "    if (output.metadata[EXEC_MIME_TYPE][\"id\"] !== undefined) {\n",
       "      toinsert[toinsert.length - 1].firstChild.textContent = output.data[JS_MIME_TYPE];\n",
       "      // store reference to embed id on output_area\n",
       "      output_area._bokeh_element_id = output.metadata[EXEC_MIME_TYPE][\"id\"];\n",
       "    }\n",
       "    if (output.metadata[EXEC_MIME_TYPE][\"server_id\"] !== undefined) {\n",
       "      var bk_div = document.createElement(\"div\");\n",
       "      bk_div.innerHTML = output.data[HTML_MIME_TYPE];\n",
       "      var script_attrs = bk_div.children[0].attributes;\n",
       "      for (var i = 0; i < script_attrs.length; i++) {\n",
       "        toinsert[toinsert.length - 1].firstChild.setAttribute(script_attrs[i].name, script_attrs[i].value);\n",
       "      }\n",
       "      // store reference to server id on output_area\n",
       "      output_area._bokeh_server_id = output.metadata[EXEC_MIME_TYPE][\"server_id\"];\n",
       "    }\n",
       "  }\n",
       "\n",
       "  function register_renderer(events, OutputArea) {\n",
       "\n",
       "    function append_mime(data, metadata, element) {\n",
       "      // create a DOM node to render to\n",
       "      var toinsert = this.create_output_subarea(\n",
       "        metadata,\n",
       "        CLASS_NAME,\n",
       "        EXEC_MIME_TYPE\n",
       "      );\n",
       "      this.keyboard_manager.register_events(toinsert);\n",
       "      // Render to node\n",
       "      var props = {data: data, metadata: metadata[EXEC_MIME_TYPE]};\n",
       "      render(props, toinsert[toinsert.length - 1]);\n",
       "      element.append(toinsert);\n",
       "      return toinsert\n",
       "    }\n",
       "\n",
       "    /* Handle when an output is cleared or removed */\n",
       "    events.on('clear_output.CodeCell', handleClearOutput);\n",
       "    events.on('delete.Cell', handleClearOutput);\n",
       "\n",
       "    /* Handle when a new output is added */\n",
       "    events.on('output_added.OutputArea', handleAddOutput);\n",
       "\n",
       "    /**\n",
       "     * Register the mime type and append_mime function with output_area\n",
       "     */\n",
       "    OutputArea.prototype.register_mime_type(EXEC_MIME_TYPE, append_mime, {\n",
       "      /* Is output safe? */\n",
       "      safe: true,\n",
       "      /* Index of renderer in `output_area.display_order` */\n",
       "      index: 0\n",
       "    });\n",
       "  }\n",
       "\n",
       "  // register the mime type if in Jupyter Notebook environment and previously unregistered\n",
       "  if (root.Jupyter !== undefined) {\n",
       "    var events = require('base/js/events');\n",
       "    var OutputArea = require('notebook/js/outputarea').OutputArea;\n",
       "\n",
       "    if (OutputArea.prototype.mime_types().indexOf(EXEC_MIME_TYPE) == -1) {\n",
       "      register_renderer(events, OutputArea);\n",
       "    }\n",
       "  }\n",
       "\n",
       "  \n",
       "  if (typeof (root._bokeh_timeout) === \"undefined\" || force === true) {\n",
       "    root._bokeh_timeout = Date.now() + 5000;\n",
       "    root._bokeh_failed_load = false;\n",
       "  }\n",
       "\n",
       "  var NB_LOAD_WARNING = {'data': {'text/html':\n",
       "     \"<div style='background-color: #fdd'>\\n\"+\n",
       "     \"<p>\\n\"+\n",
       "     \"BokehJS does not appear to have successfully loaded. If loading BokehJS from CDN, this \\n\"+\n",
       "     \"may be due to a slow or bad network connection. Possible fixes:\\n\"+\n",
       "     \"</p>\\n\"+\n",
       "     \"<ul>\\n\"+\n",
       "     \"<li>re-rerun `output_notebook()` to attempt to load from CDN again, or</li>\\n\"+\n",
       "     \"<li>use INLINE resources instead, as so:</li>\\n\"+\n",
       "     \"</ul>\\n\"+\n",
       "     \"<code>\\n\"+\n",
       "     \"from bokeh.resources import INLINE\\n\"+\n",
       "     \"output_notebook(resources=INLINE)\\n\"+\n",
       "     \"</code>\\n\"+\n",
       "     \"</div>\"}};\n",
       "\n",
       "  function display_loaded() {\n",
       "    var el = document.getElementById(\"2112\");\n",
       "    if (el != null) {\n",
       "      el.textContent = \"BokehJS is loading...\";\n",
       "    }\n",
       "    if (root.Bokeh !== undefined) {\n",
       "      if (el != null) {\n",
       "        el.textContent = \"BokehJS \" + root.Bokeh.version + \" successfully loaded.\";\n",
       "      }\n",
       "    } else if (Date.now() < root._bokeh_timeout) {\n",
       "      setTimeout(display_loaded, 100)\n",
       "    }\n",
       "  }\n",
       "\n",
       "\n",
       "  function run_callbacks() {\n",
       "    try {\n",
       "      root._bokeh_onload_callbacks.forEach(function(callback) { callback() });\n",
       "    }\n",
       "    finally {\n",
       "      delete root._bokeh_onload_callbacks\n",
       "    }\n",
       "    console.info(\"Bokeh: all callbacks have finished\");\n",
       "  }\n",
       "\n",
       "  function load_libs(js_urls, callback) {\n",
       "    root._bokeh_onload_callbacks.push(callback);\n",
       "    if (root._bokeh_is_loading > 0) {\n",
       "      console.log(\"Bokeh: BokehJS is being loaded, scheduling callback at\", now());\n",
       "      return null;\n",
       "    }\n",
       "    if (js_urls == null || js_urls.length === 0) {\n",
       "      run_callbacks();\n",
       "      return null;\n",
       "    }\n",
       "    console.log(\"Bokeh: BokehJS not loaded, scheduling load and callback at\", now());\n",
       "    root._bokeh_is_loading = js_urls.length;\n",
       "    for (var i = 0; i < js_urls.length; i++) {\n",
       "      var url = js_urls[i];\n",
       "      var s = document.createElement('script');\n",
       "      s.src = url;\n",
       "      s.async = false;\n",
       "      s.onreadystatechange = s.onload = function() {\n",
       "        root._bokeh_is_loading--;\n",
       "        if (root._bokeh_is_loading === 0) {\n",
       "          console.log(\"Bokeh: all BokehJS libraries loaded\");\n",
       "          run_callbacks()\n",
       "        }\n",
       "      };\n",
       "      s.onerror = function() {\n",
       "        console.warn(\"failed to load library \" + url);\n",
       "      };\n",
       "      console.log(\"Bokeh: injecting script tag for BokehJS library: \", url);\n",
       "      document.getElementsByTagName(\"head\")[0].appendChild(s);\n",
       "    }\n",
       "  };var element = document.getElementById(\"2112\");\n",
       "  if (element == null) {\n",
       "    console.log(\"Bokeh: ERROR: autoload.js configured with elementid '2112' but no matching script tag was found. \")\n",
       "    return false;\n",
       "  }\n",
       "\n",
       "  var js_urls = [\"https://cdn.pydata.org/bokeh/release/bokeh-1.0.4.min.js\", \"https://cdn.pydata.org/bokeh/release/bokeh-widgets-1.0.4.min.js\", \"https://cdn.pydata.org/bokeh/release/bokeh-tables-1.0.4.min.js\", \"https://cdn.pydata.org/bokeh/release/bokeh-gl-1.0.4.min.js\"];\n",
       "\n",
       "  var inline_js = [\n",
       "    function(Bokeh) {\n",
       "      Bokeh.set_log_level(\"info\");\n",
       "    },\n",
       "    \n",
       "    function(Bokeh) {\n",
       "      \n",
       "    },\n",
       "    function(Bokeh) {\n",
       "      console.log(\"Bokeh: injecting CSS: https://cdn.pydata.org/bokeh/release/bokeh-1.0.4.min.css\");\n",
       "      Bokeh.embed.inject_css(\"https://cdn.pydata.org/bokeh/release/bokeh-1.0.4.min.css\");\n",
       "      console.log(\"Bokeh: injecting CSS: https://cdn.pydata.org/bokeh/release/bokeh-widgets-1.0.4.min.css\");\n",
       "      Bokeh.embed.inject_css(\"https://cdn.pydata.org/bokeh/release/bokeh-widgets-1.0.4.min.css\");\n",
       "      console.log(\"Bokeh: injecting CSS: https://cdn.pydata.org/bokeh/release/bokeh-tables-1.0.4.min.css\");\n",
       "      Bokeh.embed.inject_css(\"https://cdn.pydata.org/bokeh/release/bokeh-tables-1.0.4.min.css\");\n",
       "    }\n",
       "  ];\n",
       "\n",
       "  function run_inline_js() {\n",
       "    \n",
       "    if ((root.Bokeh !== undefined) || (force === true)) {\n",
       "      for (var i = 0; i < inline_js.length; i++) {\n",
       "        inline_js[i].call(root, root.Bokeh);\n",
       "      }if (force === true) {\n",
       "        display_loaded();\n",
       "      }} else if (Date.now() < root._bokeh_timeout) {\n",
       "      setTimeout(run_inline_js, 100);\n",
       "    } else if (!root._bokeh_failed_load) {\n",
       "      console.log(\"Bokeh: BokehJS failed to load within specified timeout.\");\n",
       "      root._bokeh_failed_load = true;\n",
       "    } else if (force !== true) {\n",
       "      var cell = $(document.getElementById(\"2112\")).parents('.cell').data().cell;\n",
       "      cell.output_area.append_execute_result(NB_LOAD_WARNING)\n",
       "    }\n",
       "\n",
       "  }\n",
       "\n",
       "  if (root._bokeh_is_loading === 0) {\n",
       "    console.log(\"Bokeh: BokehJS loaded, going straight to plotting\");\n",
       "    run_inline_js();\n",
       "  } else {\n",
       "    load_libs(js_urls, function() {\n",
       "      console.log(\"Bokeh: BokehJS plotting callback run at\", now());\n",
       "      run_inline_js();\n",
       "    });\n",
       "  }\n",
       "}(window));"
      ],
      "application/vnd.bokehjs_load.v0+json": "\n(function(root) {\n  function now() {\n    return new Date();\n  }\n\n  var force = true;\n\n  if (typeof (root._bokeh_onload_callbacks) === \"undefined\" || force === true) {\n    root._bokeh_onload_callbacks = [];\n    root._bokeh_is_loading = undefined;\n  }\n\n  \n\n  \n  if (typeof (root._bokeh_timeout) === \"undefined\" || force === true) {\n    root._bokeh_timeout = Date.now() + 5000;\n    root._bokeh_failed_load = false;\n  }\n\n  var NB_LOAD_WARNING = {'data': {'text/html':\n     \"<div style='background-color: #fdd'>\\n\"+\n     \"<p>\\n\"+\n     \"BokehJS does not appear to have successfully loaded. If loading BokehJS from CDN, this \\n\"+\n     \"may be due to a slow or bad network connection. Possible fixes:\\n\"+\n     \"</p>\\n\"+\n     \"<ul>\\n\"+\n     \"<li>re-rerun `output_notebook()` to attempt to load from CDN again, or</li>\\n\"+\n     \"<li>use INLINE resources instead, as so:</li>\\n\"+\n     \"</ul>\\n\"+\n     \"<code>\\n\"+\n     \"from bokeh.resources import INLINE\\n\"+\n     \"output_notebook(resources=INLINE)\\n\"+\n     \"</code>\\n\"+\n     \"</div>\"}};\n\n  function display_loaded() {\n    var el = document.getElementById(\"2112\");\n    if (el != null) {\n      el.textContent = \"BokehJS is loading...\";\n    }\n    if (root.Bokeh !== undefined) {\n      if (el != null) {\n        el.textContent = \"BokehJS \" + root.Bokeh.version + \" successfully loaded.\";\n      }\n    } else if (Date.now() < root._bokeh_timeout) {\n      setTimeout(display_loaded, 100)\n    }\n  }\n\n\n  function run_callbacks() {\n    try {\n      root._bokeh_onload_callbacks.forEach(function(callback) { callback() });\n    }\n    finally {\n      delete root._bokeh_onload_callbacks\n    }\n    console.info(\"Bokeh: all callbacks have finished\");\n  }\n\n  function load_libs(js_urls, callback) {\n    root._bokeh_onload_callbacks.push(callback);\n    if (root._bokeh_is_loading > 0) {\n      console.log(\"Bokeh: BokehJS is being loaded, scheduling callback at\", now());\n      return null;\n    }\n    if (js_urls == null || js_urls.length === 0) {\n      run_callbacks();\n      return null;\n    }\n    console.log(\"Bokeh: BokehJS not loaded, scheduling load and callback at\", now());\n    root._bokeh_is_loading = js_urls.length;\n    for (var i = 0; i < js_urls.length; i++) {\n      var url = js_urls[i];\n      var s = document.createElement('script');\n      s.src = url;\n      s.async = false;\n      s.onreadystatechange = s.onload = function() {\n        root._bokeh_is_loading--;\n        if (root._bokeh_is_loading === 0) {\n          console.log(\"Bokeh: all BokehJS libraries loaded\");\n          run_callbacks()\n        }\n      };\n      s.onerror = function() {\n        console.warn(\"failed to load library \" + url);\n      };\n      console.log(\"Bokeh: injecting script tag for BokehJS library: \", url);\n      document.getElementsByTagName(\"head\")[0].appendChild(s);\n    }\n  };var element = document.getElementById(\"2112\");\n  if (element == null) {\n    console.log(\"Bokeh: ERROR: autoload.js configured with elementid '2112' but no matching script tag was found. \")\n    return false;\n  }\n\n  var js_urls = [\"https://cdn.pydata.org/bokeh/release/bokeh-1.0.4.min.js\", \"https://cdn.pydata.org/bokeh/release/bokeh-widgets-1.0.4.min.js\", \"https://cdn.pydata.org/bokeh/release/bokeh-tables-1.0.4.min.js\", \"https://cdn.pydata.org/bokeh/release/bokeh-gl-1.0.4.min.js\"];\n\n  var inline_js = [\n    function(Bokeh) {\n      Bokeh.set_log_level(\"info\");\n    },\n    \n    function(Bokeh) {\n      \n    },\n    function(Bokeh) {\n      console.log(\"Bokeh: injecting CSS: https://cdn.pydata.org/bokeh/release/bokeh-1.0.4.min.css\");\n      Bokeh.embed.inject_css(\"https://cdn.pydata.org/bokeh/release/bokeh-1.0.4.min.css\");\n      console.log(\"Bokeh: injecting CSS: https://cdn.pydata.org/bokeh/release/bokeh-widgets-1.0.4.min.css\");\n      Bokeh.embed.inject_css(\"https://cdn.pydata.org/bokeh/release/bokeh-widgets-1.0.4.min.css\");\n      console.log(\"Bokeh: injecting CSS: https://cdn.pydata.org/bokeh/release/bokeh-tables-1.0.4.min.css\");\n      Bokeh.embed.inject_css(\"https://cdn.pydata.org/bokeh/release/bokeh-tables-1.0.4.min.css\");\n    }\n  ];\n\n  function run_inline_js() {\n    \n    if ((root.Bokeh !== undefined) || (force === true)) {\n      for (var i = 0; i < inline_js.length; i++) {\n        inline_js[i].call(root, root.Bokeh);\n      }if (force === true) {\n        display_loaded();\n      }} else if (Date.now() < root._bokeh_timeout) {\n      setTimeout(run_inline_js, 100);\n    } else if (!root._bokeh_failed_load) {\n      console.log(\"Bokeh: BokehJS failed to load within specified timeout.\");\n      root._bokeh_failed_load = true;\n    } else if (force !== true) {\n      var cell = $(document.getElementById(\"2112\")).parents('.cell').data().cell;\n      cell.output_area.append_execute_result(NB_LOAD_WARNING)\n    }\n\n  }\n\n  if (root._bokeh_is_loading === 0) {\n    console.log(\"Bokeh: BokehJS loaded, going straight to plotting\");\n    run_inline_js();\n  } else {\n    load_libs(js_urls, function() {\n      console.log(\"Bokeh: BokehJS plotting callback run at\", now());\n      run_inline_js();\n    });\n  }\n}(window));"
     },
     "metadata": {},
     "output_type": "display_data"
    }
   ],
   "source": [
    "from bokeh.plotting import * \n",
    "from bokeh.io import output_notebook\n",
    "\n",
    "output_notebook() #need this to load/show/interact in the notebook"
   ]
  },
  {
   "cell_type": "code",
   "execution_count": 91,
   "metadata": {},
   "outputs": [
    {
     "data": {
      "text/html": [
       "\n",
       "\n",
       "\n",
       "\n",
       "\n",
       "\n",
       "  <div class=\"bk-root\" id=\"5b838fa3-5a21-495c-bad5-242634df1f65\" data-root-id=\"28265\"></div>\n"
      ]
     },
     "metadata": {},
     "output_type": "display_data"
    },
    {
     "data": {
      "application/javascript": [
       "(function(root) {\n",
       "  function embed_document(root) {\n",
       "    \n",
       "  var docs_json = {\"b6fa8ec7-9e72-4143-8dea-2e868d5b0959\":{\"roots\":{\"references\":[{\"attributes\":{\"below\":[{\"id\":\"28274\",\"type\":\"LinearAxis\"}],\"left\":[{\"id\":\"28279\",\"type\":\"LinearAxis\"}],\"plot_height\":250,\"plot_width\":250,\"renderers\":[{\"id\":\"28274\",\"type\":\"LinearAxis\"},{\"id\":\"28278\",\"type\":\"Grid\"},{\"id\":\"28279\",\"type\":\"LinearAxis\"},{\"id\":\"28283\",\"type\":\"Grid\"},{\"id\":\"28293\",\"type\":\"BoxAnnotation\"},{\"id\":\"28298\",\"type\":\"BoxAnnotation\"},{\"id\":\"28301\",\"type\":\"PolyAnnotation\"},{\"id\":\"28308\",\"type\":\"GlyphRenderer\"}],\"title\":{\"id\":\"29025\",\"type\":\"Title\"},\"toolbar\":{\"id\":\"28291\",\"type\":\"Toolbar\"},\"x_range\":{\"id\":\"28266\",\"type\":\"DataRange1d\"},\"x_scale\":{\"id\":\"28270\",\"type\":\"LinearScale\"},\"y_range\":{\"id\":\"28268\",\"type\":\"DataRange1d\"},\"y_scale\":{\"id\":\"28272\",\"type\":\"LinearScale\"}},\"id\":\"28265\",\"subtype\":\"Figure\",\"type\":\"Plot\"},{\"attributes\":{},\"id\":\"29030\",\"type\":\"BasicTickFormatter\"},{\"attributes\":{\"dimension\":1,\"plot\":{\"id\":\"28265\",\"subtype\":\"Figure\",\"type\":\"Plot\"},\"ticker\":{\"id\":\"28280\",\"type\":\"BasicTicker\"}},\"id\":\"28283\",\"type\":\"Grid\"},{\"attributes\":{},\"id\":\"28280\",\"type\":\"BasicTicker\"},{\"attributes\":{},\"id\":\"29034\",\"type\":\"UnionRenderers\"},{\"attributes\":{\"fill_alpha\":{\"value\":0.1},\"fill_color\":{\"value\":\"#1f77b4\"},\"line_alpha\":{\"value\":0.1},\"line_color\":{\"value\":\"#1f77b4\"},\"x\":{\"field\":\"x\"},\"y\":{\"field\":\"y\"}},\"id\":\"28307\",\"type\":\"Circle\"},{\"attributes\":{},\"id\":\"28272\",\"type\":\"LinearScale\"},{\"attributes\":{},\"id\":\"29035\",\"type\":\"Selection\"},{\"attributes\":{\"fill_color\":{\"value\":\"#1f77b4\"},\"line_color\":{\"value\":\"#1f77b4\"},\"x\":{\"field\":\"x\"},\"y\":{\"field\":\"y\"}},\"id\":\"28306\",\"type\":\"Circle\"},{\"attributes\":{\"active_drag\":\"auto\",\"active_inspect\":\"auto\",\"active_multi\":null,\"active_scroll\":\"auto\",\"active_tap\":\"auto\",\"tools\":[{\"id\":\"28284\",\"type\":\"PanTool\"},{\"id\":\"28285\",\"type\":\"WheelZoomTool\"},{\"id\":\"28286\",\"type\":\"BoxZoomTool\"},{\"id\":\"28287\",\"type\":\"ResetTool\"},{\"id\":\"28288\",\"type\":\"SaveTool\"},{\"id\":\"28289\",\"type\":\"BoxSelectTool\"},{\"id\":\"28290\",\"type\":\"LassoSelectTool\"}]},\"id\":\"28291\",\"type\":\"Toolbar\"},{\"attributes\":{},\"id\":\"28284\",\"type\":\"PanTool\"},{\"attributes\":{},\"id\":\"28270\",\"type\":\"LinearScale\"},{\"attributes\":{},\"id\":\"28285\",\"type\":\"WheelZoomTool\"},{\"attributes\":{\"overlay\":{\"id\":\"28293\",\"type\":\"BoxAnnotation\"}},\"id\":\"28286\",\"type\":\"BoxZoomTool\"},{\"attributes\":{},\"id\":\"28287\",\"type\":\"ResetTool\"},{\"attributes\":{\"plot\":null,\"text\":\"\"},\"id\":\"29025\",\"type\":\"Title\"},{\"attributes\":{},\"id\":\"28288\",\"type\":\"SaveTool\"},{\"attributes\":{\"callback\":null,\"overlay\":{\"id\":\"28298\",\"type\":\"BoxAnnotation\"}},\"id\":\"28289\",\"type\":\"BoxSelectTool\"},{\"attributes\":{\"callback\":null,\"overlay\":{\"id\":\"28301\",\"type\":\"PolyAnnotation\"}},\"id\":\"28290\",\"type\":\"LassoSelectTool\"},{\"attributes\":{\"bottom_units\":\"screen\",\"fill_alpha\":{\"value\":0.5},\"fill_color\":{\"value\":\"lightgrey\"},\"left_units\":\"screen\",\"level\":\"overlay\",\"line_alpha\":{\"value\":1.0},\"line_color\":{\"value\":\"black\"},\"line_dash\":[4,4],\"line_width\":{\"value\":2},\"plot\":null,\"render_mode\":\"css\",\"right_units\":\"screen\",\"top_units\":\"screen\"},\"id\":\"28293\",\"type\":\"BoxAnnotation\"},{\"attributes\":{\"plot\":{\"id\":\"28265\",\"subtype\":\"Figure\",\"type\":\"Plot\"},\"ticker\":{\"id\":\"28275\",\"type\":\"BasicTicker\"}},\"id\":\"28278\",\"type\":\"Grid\"},{\"attributes\":{\"bottom_units\":\"screen\",\"fill_alpha\":{\"value\":0.5},\"fill_color\":{\"value\":\"lightgrey\"},\"left_units\":\"screen\",\"level\":\"overlay\",\"line_alpha\":{\"value\":1.0},\"line_color\":{\"value\":\"black\"},\"line_dash\":[4,4],\"line_width\":{\"value\":2},\"plot\":null,\"render_mode\":\"css\",\"right_units\":\"screen\",\"top_units\":\"screen\"},\"id\":\"28298\",\"type\":\"BoxAnnotation\"},{\"attributes\":{},\"id\":\"29028\",\"type\":\"BasicTickFormatter\"},{\"attributes\":{\"callback\":null},\"id\":\"28266\",\"type\":\"DataRange1d\"},{\"attributes\":{\"fill_alpha\":{\"value\":0.5},\"fill_color\":{\"value\":\"lightgrey\"},\"level\":\"overlay\",\"line_alpha\":{\"value\":1.0},\"line_color\":{\"value\":\"black\"},\"line_dash\":[4,4],\"line_width\":{\"value\":2},\"plot\":null,\"xs_units\":\"screen\",\"ys_units\":\"screen\"},\"id\":\"28301\",\"type\":\"PolyAnnotation\"},{\"attributes\":{},\"id\":\"28275\",\"type\":\"BasicTicker\"},{\"attributes\":{\"data_source\":{\"id\":\"28305\",\"type\":\"ColumnDataSource\"},\"glyph\":{\"id\":\"28306\",\"type\":\"Circle\"},\"hover_glyph\":null,\"muted_glyph\":null,\"nonselection_glyph\":{\"id\":\"28307\",\"type\":\"Circle\"},\"selection_glyph\":null,\"view\":{\"id\":\"28309\",\"type\":\"CDSView\"}},\"id\":\"28308\",\"type\":\"GlyphRenderer\"},{\"attributes\":{\"formatter\":{\"id\":\"29028\",\"type\":\"BasicTickFormatter\"},\"plot\":{\"id\":\"28265\",\"subtype\":\"Figure\",\"type\":\"Plot\"},\"ticker\":{\"id\":\"28275\",\"type\":\"BasicTicker\"}},\"id\":\"28274\",\"type\":\"LinearAxis\"},{\"attributes\":{\"source\":{\"id\":\"28305\",\"type\":\"ColumnDataSource\"}},\"id\":\"28309\",\"type\":\"CDSView\"},{\"attributes\":{\"callback\":null,\"data\":{\"x\":[1,2,3,4,5,3,2,4],\"y\":[4,5,2,3,4,4,3,5]},\"selected\":{\"id\":\"29035\",\"type\":\"Selection\"},\"selection_policy\":{\"id\":\"29034\",\"type\":\"UnionRenderers\"}},\"id\":\"28305\",\"type\":\"ColumnDataSource\"},{\"attributes\":{\"callback\":null},\"id\":\"28268\",\"type\":\"DataRange1d\"},{\"attributes\":{\"formatter\":{\"id\":\"29030\",\"type\":\"BasicTickFormatter\"},\"plot\":{\"id\":\"28265\",\"subtype\":\"Figure\",\"type\":\"Plot\"},\"ticker\":{\"id\":\"28280\",\"type\":\"BasicTicker\"}},\"id\":\"28279\",\"type\":\"LinearAxis\"}],\"root_ids\":[\"28265\"]},\"title\":\"Bokeh Application\",\"version\":\"1.0.4\"}};\n",
       "  var render_items = [{\"docid\":\"b6fa8ec7-9e72-4143-8dea-2e868d5b0959\",\"roots\":{\"28265\":\"5b838fa3-5a21-495c-bad5-242634df1f65\"}}];\n",
       "  root.Bokeh.embed.embed_items_notebook(docs_json, render_items);\n",
       "\n",
       "  }\n",
       "  if (root.Bokeh !== undefined) {\n",
       "    embed_document(root);\n",
       "  } else {\n",
       "    var attempts = 0;\n",
       "    var timer = setInterval(function(root) {\n",
       "      if (root.Bokeh !== undefined) {\n",
       "        embed_document(root);\n",
       "        clearInterval(timer);\n",
       "      }\n",
       "      attempts++;\n",
       "      if (attempts > 100) {\n",
       "        console.log(\"Bokeh: ERROR: Unable to run BokehJS code because BokehJS library is missing\");\n",
       "        clearInterval(timer);\n",
       "      }\n",
       "    }, 10, root)\n",
       "  }\n",
       "})(window);"
      ],
      "application/vnd.bokehjs_exec.v0+json": ""
     },
     "metadata": {
      "application/vnd.bokehjs_exec.v0+json": {
       "id": "28265"
      }
     },
     "output_type": "display_data"
    }
   ],
   "source": [
    "#SCATTER PLOTS (circle) +  LINE PLOTS (line):\n",
    "\n",
    "data = {'x_values': [1, 2, 3, 4, 5, 3, 2, 4],\n",
    "        'y_values': [4, 5, 2, 3, 4, 4, 3, 5]}\n",
    "\n",
    "#need to create figure first before plotting\n",
    "#inside figure, you can specify the size/limits, titles/labels and other aspects important for the graph\n",
    "\n",
    "#can also specify the specific tools you want to include in your plot\n",
    "#http://docs.bokeh.org/en/1.0.0/docs/user_guide/tools.html (can find more here)\n",
    "TOOLS =\"pan, wheel_zoom, box_zoom,reset, save, box_select, lasso_select\"\n",
    "a = figure(tools=TOOLS, width=250, height=250)\n",
    "a.circle(x=data[\"x_values\"], y=data[\"y_values\"]) #circle is equivalent to scatter plots\n",
    "show(a)"
   ]
  },
  {
   "cell_type": "code",
   "execution_count": 87,
   "metadata": {},
   "outputs": [
    {
     "data": {
      "text/html": [
       "\n",
       "\n",
       "\n",
       "\n",
       "\n",
       "\n",
       "  <div class=\"bk-root\" id=\"b572f393-1282-43bb-9ffb-800794513ca6\" data-root-id=\"25039\"></div>\n"
      ]
     },
     "metadata": {},
     "output_type": "display_data"
    },
    {
     "data": {
      "application/javascript": [
       "(function(root) {\n",
       "  function embed_document(root) {\n",
       "    \n",
       "  var docs_json = {\"1081a992-12aa-4bda-a742-2ef83cd846d7\":{\"roots\":{\"references\":[{\"attributes\":{\"children\":[{\"id\":\"25038\",\"type\":\"ToolbarBox\"},{\"id\":\"25036\",\"type\":\"Column\"}]},\"id\":\"25039\",\"type\":\"Column\"},{\"attributes\":{\"formatter\":{\"id\":\"25017\",\"type\":\"BasicTickFormatter\"},\"plot\":{\"id\":\"24937\",\"subtype\":\"Figure\",\"type\":\"Plot\"},\"ticker\":{\"id\":\"24948\",\"type\":\"BasicTicker\"}},\"id\":\"24947\",\"type\":\"LinearAxis\"},{\"attributes\":{\"fill_color\":{\"value\":\"firebrick\"},\"line_color\":{\"value\":\"firebrick\"},\"size\":{\"units\":\"screen\",\"value\":15},\"x\":{\"field\":\"x\"},\"y\":{\"field\":\"y1\"}},\"id\":\"25012\",\"type\":\"Circle\"},{\"attributes\":{\"active_drag\":\"auto\",\"active_inspect\":\"auto\",\"active_multi\":null,\"active_scroll\":\"auto\",\"active_tap\":\"auto\",\"tools\":[{\"id\":\"24996\",\"type\":\"BoxSelectTool\"},{\"id\":\"24997\",\"type\":\"LassoSelectTool\"},{\"id\":\"24998\",\"type\":\"HoverTool\"},{\"id\":\"24999\",\"type\":\"ResetTool\"}]},\"id\":\"25002\",\"type\":\"Toolbar\"},{\"attributes\":{\"callback\":null},\"id\":\"24978\",\"type\":\"DataRange1d\"},{\"attributes\":{\"plot\":{\"id\":\"24937\",\"subtype\":\"Figure\",\"type\":\"Plot\"},\"ticker\":{\"id\":\"24948\",\"type\":\"BasicTicker\"}},\"id\":\"24951\",\"type\":\"Grid\"},{\"attributes\":{\"fill_alpha\":{\"value\":0.5},\"fill_color\":{\"value\":\"lightgrey\"},\"level\":\"overlay\",\"line_alpha\":{\"value\":1.0},\"line_color\":{\"value\":\"black\"},\"line_dash\":[4,4],\"line_width\":{\"value\":2},\"plot\":null,\"xs_units\":\"screen\",\"ys_units\":\"screen\"},\"id\":\"25003\",\"type\":\"PolyAnnotation\"},{\"attributes\":{\"formatter\":{\"id\":\"25019\",\"type\":\"BasicTickFormatter\"},\"plot\":{\"id\":\"24937\",\"subtype\":\"Figure\",\"type\":\"Plot\"},\"ticker\":{\"id\":\"24953\",\"type\":\"BasicTicker\"}},\"id\":\"24952\",\"type\":\"LinearAxis\"},{\"attributes\":{\"callback\":null},\"id\":\"24980\",\"type\":\"DataRange1d\"},{\"attributes\":{},\"id\":\"24945\",\"type\":\"LinearScale\"},{\"attributes\":{\"data_source\":{\"id\":\"24936\",\"type\":\"ColumnDataSource\"},\"glyph\":{\"id\":\"25010\",\"type\":\"Circle\"},\"hover_glyph\":{\"id\":\"25012\",\"type\":\"Circle\"},\"muted_glyph\":null,\"nonselection_glyph\":{\"id\":\"25011\",\"type\":\"Circle\"},\"selection_glyph\":null,\"view\":{\"id\":\"25014\",\"type\":\"CDSView\"}},\"id\":\"25013\",\"type\":\"GlyphRenderer\"},{\"attributes\":{},\"id\":\"24982\",\"type\":\"LinearScale\"},{\"attributes\":{},\"id\":\"24943\",\"type\":\"LinearScale\"},{\"attributes\":{\"source\":{\"id\":\"24936\",\"type\":\"ColumnDataSource\"}},\"id\":\"25014\",\"type\":\"CDSView\"},{\"attributes\":{},\"id\":\"24984\",\"type\":\"LinearScale\"},{\"attributes\":{\"children\":[{\"id\":\"25035\",\"type\":\"Row\"}]},\"id\":\"25036\",\"type\":\"Column\"},{\"attributes\":{\"below\":[{\"id\":\"24986\",\"type\":\"LinearAxis\"}],\"left\":[{\"id\":\"24991\",\"type\":\"LinearAxis\"}],\"plot_height\":350,\"plot_width\":350,\"renderers\":[{\"id\":\"24986\",\"type\":\"LinearAxis\"},{\"id\":\"24990\",\"type\":\"Grid\"},{\"id\":\"24991\",\"type\":\"LinearAxis\"},{\"id\":\"24995\",\"type\":\"Grid\"},{\"id\":\"25000\",\"type\":\"BoxAnnotation\"},{\"id\":\"25003\",\"type\":\"PolyAnnotation\"},{\"id\":\"25013\",\"type\":\"GlyphRenderer\"}],\"title\":null,\"toolbar\":{\"id\":\"25002\",\"type\":\"Toolbar\"},\"toolbar_location\":null,\"x_range\":{\"id\":\"24978\",\"type\":\"DataRange1d\"},\"x_scale\":{\"id\":\"24982\",\"type\":\"LinearScale\"},\"y_range\":{\"id\":\"24980\",\"type\":\"DataRange1d\"},\"y_scale\":{\"id\":\"24984\",\"type\":\"LinearScale\"}},\"id\":\"24976\",\"subtype\":\"Figure\",\"type\":\"Plot\"},{\"attributes\":{\"formatter\":{\"id\":\"25027\",\"type\":\"BasicTickFormatter\"},\"plot\":{\"id\":\"24976\",\"subtype\":\"Figure\",\"type\":\"Plot\"},\"ticker\":{\"id\":\"24987\",\"type\":\"BasicTicker\"}},\"id\":\"24986\",\"type\":\"LinearAxis\"},{\"attributes\":{\"children\":[{\"id\":\"24937\",\"subtype\":\"Figure\",\"type\":\"Plot\"},{\"id\":\"24976\",\"subtype\":\"Figure\",\"type\":\"Plot\"}]},\"id\":\"25035\",\"type\":\"Row\"},{\"attributes\":{},\"id\":\"24987\",\"type\":\"BasicTicker\"},{\"attributes\":{},\"id\":\"24948\",\"type\":\"BasicTicker\"},{\"attributes\":{\"dimension\":1,\"plot\":{\"id\":\"24937\",\"subtype\":\"Figure\",\"type\":\"Plot\"},\"ticker\":{\"id\":\"24953\",\"type\":\"BasicTicker\"}},\"id\":\"24956\",\"type\":\"Grid\"},{\"attributes\":{},\"id\":\"25017\",\"type\":\"BasicTickFormatter\"},{\"attributes\":{\"source\":{\"id\":\"24936\",\"type\":\"ColumnDataSource\"}},\"id\":\"24975\",\"type\":\"CDSView\"},{\"attributes\":{\"plot\":{\"id\":\"24976\",\"subtype\":\"Figure\",\"type\":\"Plot\"},\"ticker\":{\"id\":\"24987\",\"type\":\"BasicTicker\"}},\"id\":\"24990\",\"type\":\"Grid\"},{\"attributes\":{},\"id\":\"25019\",\"type\":\"BasicTickFormatter\"},{\"attributes\":{},\"id\":\"24953\",\"type\":\"BasicTicker\"},{\"attributes\":{\"callback\":null},\"id\":\"24939\",\"type\":\"DataRange1d\"},{\"attributes\":{\"formatter\":{\"id\":\"25029\",\"type\":\"BasicTickFormatter\"},\"plot\":{\"id\":\"24976\",\"subtype\":\"Figure\",\"type\":\"Plot\"},\"ticker\":{\"id\":\"24992\",\"type\":\"BasicTicker\"}},\"id\":\"24991\",\"type\":\"LinearAxis\"},{\"attributes\":{\"callback\":null},\"id\":\"24959\",\"type\":\"HoverTool\"},{\"attributes\":{},\"id\":\"25022\",\"type\":\"UnionRenderers\"},{\"attributes\":{},\"id\":\"24992\",\"type\":\"BasicTicker\"},{\"attributes\":{\"callback\":null,\"overlay\":{\"id\":\"24964\",\"type\":\"PolyAnnotation\"}},\"id\":\"24958\",\"type\":\"LassoSelectTool\"},{\"attributes\":{},\"id\":\"25023\",\"type\":\"Selection\"},{\"attributes\":{\"callback\":null,\"data\":{\"x\":{\"__ndarray__\":\"AAAAAAAA8D9csd6qMLXtP7Q5FUnUKOc/sxLH2SiW2j9zILAoqFyoPz0hgXeu7tS/iVh3f5705L/B8u8JV3Hsv1408e7n2u+/WFDNmyq07r8l4NrRWCfpvwQAAAAAAOC/v0QPZF83wr+TWuBKWS3OPwGrDYLTj+I/uvBkh4zr6j8m6Te79WvvPyXpN7v1a+8/vPBkh4zr6j8Fqw2C04/iP4Va4EpZLc4/zUQPZF83wr/x///////fvyPg2tFYJ+m/W1DNmyq07r9eNPHu59rvv8Dy7wlXcey/gVh3f5705L9GIYF3ru7Uv2wgsCioXKg/uRLH2SiW2j+4ORVJ1CjnP1+x3qowte0/AAAAAAAA8D9dsd6qMLXtP7I5FUnUKOc/yRLH2SiW2j/5H7AoqFyoPzUhgXeu7tS/klh3f5705L/D8u8JV3Hsv1808e7n2u+/WVDNmyq07r8o4NrRWCfpvw4AAAAAAOC/0EQPZF83wr9jWuBKWS3OPwurDYLTj+I/yfBkh4zr6j8i6Te79WvvPyTpN7v1a+8/v/Bkh4zr6j/7qg2C04/iP5da4EpZLc4/GkUPZF83wr8DAAAAAADgvyDg2tFYJ+m/WlDNmyq07r9eNPHu59rvv8ny7wlXcey/hFh3f5705L9OIYF3ru7UvyYhsCioXKg/sRLH2SiW2j/AORVJ1CjnP1Kx3qowte0/AAAAAAAA8D9Ysd6qMLXtP7Y5FUnUKOc/0RLH2SiW2j9AILAoqFyoP2khgXeu7tS/d1h3f5705L/B8u8JV3Hsv2A08e7n2u+/VlDNmyq07r8r4NrRWCfpvxIAAAAAAOC/Y0QPZF83wr9SWuBKWS3OPwirDYLTj+I/x/Bkh4zr6j8n6Te79WvvPyXpN7v1a+8/wfBkh4zr6j/lqg2C04/iP6da4EpZLc4/CUUPZF83wr/G///////fv0Xg2tFYJ+m/WVDNmyq07r9iNPHu59rvv8vy7wlXcey/iFh3f5705L8ZIYF3ru7Uv+AesCioXKg/HhPH2SiW2j+9ORVJ1CjnP1Cx3qowte0/AAAAAAAA8D8=\",\"dtype\":\"float64\",\"shape\":[100]},\"y0\":{\"__ndarray__\":\"AAAAAAAAAAD7kw1TUcnXPwAYP5QgFeY/FCzujrQb7T+DrFqjuPbvP8VTYltyPe4/nyg6uxkv6D/yqD5VlVPdP9xTR8WXVbg/u412/ecH0r/zeLFa9cfjv6hMWOh6tuu/8EI4BJ6s77/fXvqSFBnvv5hBRZYBEeq/Cli7+O1M4b+ArKCAYjnIv46soIBiOcg/B1i7+O1M4T+UQUWWARHqP+Be+pIUGe8/8EI4BJ6s7z+vTFjoerbrP/Z4sVr1x+M/pY12/ecH0j/5U0fFl1W4v/ioPlWVU92/pig6uxkv6L/EU2Jbcj3uv4OsWqO49u+/EyzujrQb7b/8Fz+UIBXmv+uTDVNRyde//dF15uws1zz4kw1TUcnXPwEYP5QgFeY/DyzujrQb7T+ErFqjuPbvP8dTYltyPe4/lyg6uxkv6D/sqD5VlVPdP79TR8WXVbg/so12/ecH0r/veLFa9cfjv6JMWOh6tuu/8EI4BJ6s77/iXvqSFBnvv5BBRZYBEeq/9Fe7+O1M4b/QrKCAYjnIv52soIBiOcg/A1i7+O1M4T+cQUWWARHqP99e+pIUGe8/7UI4BJ6s7z+pTFjoerbrP/p4sVr1x+M/rI12/ecH0j/VU0fFl1W4v9SoPlWVU92/pCg6uxkv6L/CU2Jbcj3uv4OsWqO49u+/FCzujrQb7b/0Fz+UIBXmvy6UDVNRyde//dF15uws5zwNlA1TUcnXP/4XP5QgFeY/DSzujrQb7T+DrFqjuPbvP75TYltyPe4/ryg6uxkv6D/0qD5VlVPdP2NTR8WXVbg/yI12/ecH0r/seLFa9cfjv6BMWOh6tuu/9EI4BJ6s77/jXvqSFBnvv5NBRZYBEeq/91e7+O1M4b9krKCAYjnIv4usoIBiOcg//1e7+O1M4T+rQUWWARHqP95e+pIUGe8/7kI4BJ6s7z+7TFjoerbrP8t4sVr1x+M/tY12/ecH0j+zUkfFl1W4v8yoPlWVU92/oCg6uxkv6L/LU2Jbcj3uv4SsWqO49u+//CvujrQb7b/2Fz+UIBXmvzaUDVNRyde/CoqeTDl52rw=\",\"dtype\":\"float64\",\"shape\":[100]},\"y1\":{\"__ndarray__\":\"AAAAAAAA8D9o+gYFGL7vPyN/Fo5v+e4/XLHeqjC17T9foQT4kvbrP1YykSHGxOk/tDkVSdQo5z9AE3HJfC3kP10soPEH3+A/thLH2SiW2j9bQ2NRvgDTP4xzC34aOsY/cyCwKKhcqD8NyeikuUm0v0/eq9oaN8q/PSGBd67u1L+LyZhelmvcv8/m3JG2ueG/hlh3f5705L9dUsfUNNnnv10cd/2OW+q/wfLvCVdx7L8bLVJC9hHuv0PyRoe4Nu+/XjTx7ufa778HB0As4PvvvwQ9tXAZme+/V1DNmyq07r/ZTwivwlDtv4lZi6GZdOu/JeDa0Vgn6b/aPrV2e3Lmv820DJEnYeO/+v//////3783i/Tn4LnYv4yAwi7oDdG/30QPZF83wr9U+ijPKj+QvxHsuGvkX7w/k1rgSlktzj+GU4hOOdfWP1q1P3WwOd4/AasNgtOP4j+XUJVeWbblPzhQz6Jvg+g/uvBkh4zr6j99NRQyxuTsP/FJcov7Zu4/Juk3u/Vr7z+VSynBge/vP5RLKcGB7+8/Jek3u/Vr7z/vSXKL+2buP381FDLG5Ow/uPBkh4zr6j86UM+ib4PoP5VQlV5ZtuU/BasNgtOP4j9UtT91sDneP45TiE4519Y/hVrgSlktzj807Lhr5F+8P8f6KM8qP5C/zUQPZF83wr+SgMIu6A3Rvy6L9Ofgudi/BgAAAAAA4L/PtAyRJ2Hjv9k+tXZ7cua/I+Da0Vgn6b+NWYuhmXTrv9pPCK/CUO2/V1DNmyq07r8EPbVwGZnvvwgHQCzg+++/XjTx7ufa779E8kaHuDbvvx4tUkL2Ee6/wPLvCVdx7L9dHHf9jlvqv2BSx9Q02ee/gVh3f5705L/M5tyRtrnhv4zJmF6Wa9y/RiGBd67u1L8x3qvaGjfKv/DI6KS5SbS/bCCwKKhcqD90cwt+GjrGP2VDY1G+ANM/uRLH2SiW2j9aLKDxB9/gPzoTccl8LeQ/uDkVSdQo5z9WMpEhxsTpP16hBPiS9us/X7HeqjC17T8kfxaOb/nuP2j6BgUYvu8/AAAAAAAA8D8=\",\"dtype\":\"float64\",\"shape\":[100]}},\"selected\":{\"id\":\"25023\",\"type\":\"Selection\"},\"selection_policy\":{\"id\":\"25022\",\"type\":\"UnionRenderers\"}},\"id\":\"24936\",\"type\":\"ColumnDataSource\"},{\"attributes\":{\"dimension\":1,\"plot\":{\"id\":\"24976\",\"subtype\":\"Figure\",\"type\":\"Plot\"},\"ticker\":{\"id\":\"24992\",\"type\":\"BasicTicker\"}},\"id\":\"24995\",\"type\":\"Grid\"},{\"attributes\":{\"callback\":null,\"overlay\":{\"id\":\"24961\",\"type\":\"BoxAnnotation\"}},\"id\":\"24957\",\"type\":\"BoxSelectTool\"},{\"attributes\":{},\"id\":\"25027\",\"type\":\"BasicTickFormatter\"},{\"attributes\":{\"data_source\":{\"id\":\"24936\",\"type\":\"ColumnDataSource\"},\"glyph\":{\"id\":\"24971\",\"type\":\"Circle\"},\"hover_glyph\":{\"id\":\"24973\",\"type\":\"Circle\"},\"muted_glyph\":null,\"nonselection_glyph\":{\"id\":\"24972\",\"type\":\"Circle\"},\"selection_glyph\":null,\"view\":{\"id\":\"24975\",\"type\":\"CDSView\"}},\"id\":\"24974\",\"type\":\"GlyphRenderer\"},{\"attributes\":{},\"id\":\"25029\",\"type\":\"BasicTickFormatter\"},{\"attributes\":{},\"id\":\"24960\",\"type\":\"ResetTool\"},{\"attributes\":{\"tools\":[{\"id\":\"24957\",\"type\":\"BoxSelectTool\"},{\"id\":\"24958\",\"type\":\"LassoSelectTool\"},{\"id\":\"24959\",\"type\":\"HoverTool\"},{\"id\":\"24960\",\"type\":\"ResetTool\"},{\"id\":\"24996\",\"type\":\"BoxSelectTool\"},{\"id\":\"24997\",\"type\":\"LassoSelectTool\"},{\"id\":\"24998\",\"type\":\"HoverTool\"},{\"id\":\"24999\",\"type\":\"ResetTool\"}]},\"id\":\"25037\",\"type\":\"ProxyToolbar\"},{\"attributes\":{\"fill_alpha\":{\"value\":0.1},\"fill_color\":{\"value\":\"#1f77b4\"},\"line_alpha\":{\"value\":0.1},\"line_color\":{\"value\":\"#1f77b4\"},\"size\":{\"units\":\"screen\",\"value\":15},\"x\":{\"field\":\"x\"},\"y\":{\"field\":\"y1\"}},\"id\":\"25011\",\"type\":\"Circle\"},{\"attributes\":{\"fill_color\":{\"value\":\"#1f77b4\"},\"line_color\":{\"value\":\"#1f77b4\"},\"x\":{\"field\":\"x\"},\"y\":{\"field\":\"y0\"}},\"id\":\"24971\",\"type\":\"Circle\"},{\"attributes\":{\"toolbar\":{\"id\":\"25037\",\"type\":\"ProxyToolbar\"},\"toolbar_location\":\"above\"},\"id\":\"25038\",\"type\":\"ToolbarBox\"},{\"attributes\":{\"callback\":null,\"overlay\":{\"id\":\"25000\",\"type\":\"BoxAnnotation\"}},\"id\":\"24996\",\"type\":\"BoxSelectTool\"},{\"attributes\":{\"active_drag\":\"auto\",\"active_inspect\":\"auto\",\"active_multi\":null,\"active_scroll\":\"auto\",\"active_tap\":\"auto\",\"tools\":[{\"id\":\"24957\",\"type\":\"BoxSelectTool\"},{\"id\":\"24958\",\"type\":\"LassoSelectTool\"},{\"id\":\"24959\",\"type\":\"HoverTool\"},{\"id\":\"24960\",\"type\":\"ResetTool\"}]},\"id\":\"24963\",\"type\":\"Toolbar\"},{\"attributes\":{\"fill_color\":{\"value\":\"#1f77b4\"},\"line_color\":{\"value\":\"#1f77b4\"},\"size\":{\"units\":\"screen\",\"value\":15},\"x\":{\"field\":\"x\"},\"y\":{\"field\":\"y1\"}},\"id\":\"25010\",\"type\":\"Circle\"},{\"attributes\":{\"callback\":null,\"overlay\":{\"id\":\"25003\",\"type\":\"PolyAnnotation\"}},\"id\":\"24997\",\"type\":\"LassoSelectTool\"},{\"attributes\":{\"below\":[{\"id\":\"24947\",\"type\":\"LinearAxis\"}],\"left\":[{\"id\":\"24952\",\"type\":\"LinearAxis\"}],\"plot_height\":350,\"plot_width\":350,\"renderers\":[{\"id\":\"24947\",\"type\":\"LinearAxis\"},{\"id\":\"24951\",\"type\":\"Grid\"},{\"id\":\"24952\",\"type\":\"LinearAxis\"},{\"id\":\"24956\",\"type\":\"Grid\"},{\"id\":\"24961\",\"type\":\"BoxAnnotation\"},{\"id\":\"24964\",\"type\":\"PolyAnnotation\"},{\"id\":\"24974\",\"type\":\"GlyphRenderer\"}],\"title\":null,\"toolbar\":{\"id\":\"24963\",\"type\":\"Toolbar\"},\"toolbar_location\":null,\"x_range\":{\"id\":\"24939\",\"type\":\"DataRange1d\"},\"x_scale\":{\"id\":\"24943\",\"type\":\"LinearScale\"},\"y_range\":{\"id\":\"24941\",\"type\":\"DataRange1d\"},\"y_scale\":{\"id\":\"24945\",\"type\":\"LinearScale\"}},\"id\":\"24937\",\"subtype\":\"Figure\",\"type\":\"Plot\"},{\"attributes\":{\"fill_alpha\":{\"value\":0.5},\"fill_color\":{\"value\":\"lightgrey\"},\"level\":\"overlay\",\"line_alpha\":{\"value\":1.0},\"line_color\":{\"value\":\"black\"},\"line_dash\":[4,4],\"line_width\":{\"value\":2},\"plot\":null,\"xs_units\":\"screen\",\"ys_units\":\"screen\"},\"id\":\"24964\",\"type\":\"PolyAnnotation\"},{\"attributes\":{\"fill_alpha\":{\"value\":0.1},\"fill_color\":{\"value\":\"#1f77b4\"},\"line_alpha\":{\"value\":0.1},\"line_color\":{\"value\":\"#1f77b4\"},\"x\":{\"field\":\"x\"},\"y\":{\"field\":\"y0\"}},\"id\":\"24972\",\"type\":\"Circle\"},{\"attributes\":{\"callback\":null},\"id\":\"24998\",\"type\":\"HoverTool\"},{\"attributes\":{\"callback\":null},\"id\":\"24941\",\"type\":\"DataRange1d\"},{\"attributes\":{\"bottom_units\":\"screen\",\"fill_alpha\":{\"value\":0.5},\"fill_color\":{\"value\":\"lightgrey\"},\"left_units\":\"screen\",\"level\":\"overlay\",\"line_alpha\":{\"value\":1.0},\"line_color\":{\"value\":\"black\"},\"line_dash\":[4,4],\"line_width\":{\"value\":2},\"plot\":null,\"render_mode\":\"css\",\"right_units\":\"screen\",\"top_units\":\"screen\"},\"id\":\"24961\",\"type\":\"BoxAnnotation\"},{\"attributes\":{},\"id\":\"24999\",\"type\":\"ResetTool\"},{\"attributes\":{\"fill_color\":{\"value\":\"firebrick\"},\"line_color\":{\"value\":\"firebrick\"},\"x\":{\"field\":\"x\"},\"y\":{\"field\":\"y0\"}},\"id\":\"24973\",\"type\":\"Circle\"},{\"attributes\":{\"bottom_units\":\"screen\",\"fill_alpha\":{\"value\":0.5},\"fill_color\":{\"value\":\"lightgrey\"},\"left_units\":\"screen\",\"level\":\"overlay\",\"line_alpha\":{\"value\":1.0},\"line_color\":{\"value\":\"black\"},\"line_dash\":[4,4],\"line_width\":{\"value\":2},\"plot\":null,\"render_mode\":\"css\",\"right_units\":\"screen\",\"top_units\":\"screen\"},\"id\":\"25000\",\"type\":\"BoxAnnotation\"}],\"root_ids\":[\"25039\"]},\"title\":\"Bokeh Application\",\"version\":\"1.0.4\"}};\n",
       "  var render_items = [{\"docid\":\"1081a992-12aa-4bda-a742-2ef83cd846d7\",\"roots\":{\"25039\":\"b572f393-1282-43bb-9ffb-800794513ca6\"}}];\n",
       "  root.Bokeh.embed.embed_items_notebook(docs_json, render_items);\n",
       "\n",
       "  }\n",
       "  if (root.Bokeh !== undefined) {\n",
       "    embed_document(root);\n",
       "  } else {\n",
       "    var attempts = 0;\n",
       "    var timer = setInterval(function(root) {\n",
       "      if (root.Bokeh !== undefined) {\n",
       "        embed_document(root);\n",
       "        clearInterval(timer);\n",
       "      }\n",
       "      attempts++;\n",
       "      if (attempts > 100) {\n",
       "        console.log(\"Bokeh: ERROR: Unable to run BokehJS code because BokehJS library is missing\");\n",
       "        clearInterval(timer);\n",
       "      }\n",
       "    }, 10, root)\n",
       "  }\n",
       "})(window);"
      ],
      "application/vnd.bokehjs_exec.v0+json": ""
     },
     "metadata": {
      "application/vnd.bokehjs_exec.v0+json": {
       "id": "25039"
      }
     },
     "output_type": "display_data"
    }
   ],
   "source": [
    "#COLUMN DATA SOURCE: \n",
    "# if you want to share data between plots, you can use the column data source method\n",
    "# which will allow you to create plots that have the same values for x or y \n",
    "# using a column data source/plotting by sharing also allows for \"linked selection\"\n",
    "# linked selection makes it much easier to compare plots \n",
    "# (i.e. selecting one point on one graph will highlight a corresponding point in the other graph)\n",
    "# all you need to do is create a shared range and to include/select the right tools\n",
    "\n",
    "from bokeh.models import ColumnDataSource\n",
    "import numpy as np\n",
    "\n",
    "# random data\n",
    "N = 100\n",
    "x = np.linspace(0, 4*np.pi, N)\n",
    "h = np.cos(3*x)\n",
    "y0 = np.sin(3*x)\n",
    "y1 = np.cos(x)\n",
    "\n",
    "# create a column data source for the plots to share\n",
    "source = ColumnDataSource(data=dict(x=h, y0=y0, y1=y1))\n",
    "\n",
    "TOOLS = \"box_select, lasso_select, hover, reset\"\n",
    "\n",
    "# create a new plot and add a renderer\n",
    "left = figure(tools=TOOLS, width=350, height=350, title=None)\n",
    "left.circle('x', 'y0', source=source, hover_color=\"firebrick\") #adding a color when hovering helps to pick out the corresonding points\n",
    "\n",
    "# create another new plot and add a renderer\n",
    "right = figure(tools=TOOLS, width=350, height=350, title=None)\n",
    "right.circle('x', 'y1', source=source, hover_color=\"firebrick\", size=15) #can change the size\n",
    "\n",
    "# put the subplots in a gridplot\n",
    "p = gridplot([[left, right]])\n",
    "\n",
    "# show the results\n",
    "show(p)"
   ]
  },
  {
   "cell_type": "code",
   "execution_count": 121,
   "metadata": {},
   "outputs": [
    {
     "data": {
      "text/html": [
       "\n",
       "\n",
       "\n",
       "\n",
       "\n",
       "\n",
       "  <div class=\"bk-root\" id=\"dd0a794e-b961-439b-995d-6257ff44e117\" data-root-id=\"55374\"></div>\n"
      ]
     },
     "metadata": {},
     "output_type": "display_data"
    },
    {
     "data": {
      "application/javascript": [
       "(function(root) {\n",
       "  function embed_document(root) {\n",
       "    \n",
       "  var docs_json = {\"d53f44a3-d55b-4830-8d47-6d20f5fc2501\":{\"roots\":{\"references\":[{\"attributes\":{\"children\":[{\"id\":\"55306\",\"subtype\":\"Figure\",\"type\":\"Plot\"},{\"id\":\"55335\",\"subtype\":\"Figure\",\"type\":\"Plot\"}]},\"id\":\"55374\",\"type\":\"Column\"},{\"attributes\":{},\"id\":\"55311\",\"type\":\"LinearScale\"},{\"attributes\":{\"callback\":null},\"id\":\"55338\",\"type\":\"DataRange1d\"},{\"attributes\":{},\"id\":\"55316\",\"type\":\"BasicTicker\"},{\"attributes\":{\"dimension\":1,\"plot\":{\"id\":\"55335\",\"subtype\":\"Figure\",\"type\":\"Plot\"},\"ticker\":{\"id\":\"55350\",\"type\":\"BasicTicker\"}},\"id\":\"55353\",\"type\":\"Grid\"},{\"attributes\":{},\"id\":\"55313\",\"type\":\"LinearScale\"},{\"attributes\":{\"data_source\":{\"id\":\"55369\",\"type\":\"ColumnDataSource\"},\"glyph\":{\"id\":\"55370\",\"type\":\"Triangle\"},\"hover_glyph\":null,\"muted_glyph\":null,\"nonselection_glyph\":{\"id\":\"55371\",\"type\":\"Triangle\"},\"selection_glyph\":null,\"view\":{\"id\":\"55373\",\"type\":\"CDSView\"}},\"id\":\"55372\",\"type\":\"GlyphRenderer\"},{\"attributes\":{},\"id\":\"56499\",\"type\":\"UnionRenderers\"},{\"attributes\":{},\"id\":\"56502\",\"type\":\"UnionRenderers\"},{\"attributes\":{\"formatter\":{\"id\":\"56498\",\"type\":\"BasicTickFormatter\"},\"plot\":{\"id\":\"55335\",\"subtype\":\"Figure\",\"type\":\"Plot\"},\"ticker\":{\"id\":\"55350\",\"type\":\"BasicTicker\"}},\"id\":\"55349\",\"type\":\"LinearAxis\"},{\"attributes\":{\"callback\":null},\"id\":\"55336\",\"type\":\"DataRange1d\"},{\"attributes\":{\"bottom_units\":\"screen\",\"fill_alpha\":{\"value\":0.5},\"fill_color\":{\"value\":\"lightgrey\"},\"left_units\":\"screen\",\"level\":\"overlay\",\"line_alpha\":{\"value\":1.0},\"line_color\":{\"value\":\"black\"},\"line_dash\":[4,4],\"line_width\":{\"value\":2},\"plot\":null,\"render_mode\":\"css\",\"right_units\":\"screen\",\"top_units\":\"screen\"},\"id\":\"55362\",\"type\":\"BoxAnnotation\"},{\"attributes\":{\"callback\":null,\"data\":{\"x\":[1,2,3],\"y\":[2,3,4]},\"selected\":{\"id\":\"56500\",\"type\":\"Selection\"},\"selection_policy\":{\"id\":\"56499\",\"type\":\"UnionRenderers\"}},\"id\":\"55330\",\"type\":\"ColumnDataSource\"},{\"attributes\":{\"below\":[{\"id\":\"55344\",\"type\":\"LinearAxis\"}],\"left\":[{\"id\":\"55349\",\"type\":\"LinearAxis\"}],\"plot_height\":200,\"plot_width\":200,\"renderers\":[{\"id\":\"55344\",\"type\":\"LinearAxis\"},{\"id\":\"55348\",\"type\":\"Grid\"},{\"id\":\"55349\",\"type\":\"LinearAxis\"},{\"id\":\"55353\",\"type\":\"Grid\"},{\"id\":\"55362\",\"type\":\"BoxAnnotation\"},{\"id\":\"55372\",\"type\":\"GlyphRenderer\"}],\"title\":{\"id\":\"56489\",\"type\":\"Title\"},\"toolbar\":{\"id\":\"55360\",\"type\":\"Toolbar\"},\"x_range\":{\"id\":\"55336\",\"type\":\"DataRange1d\"},\"x_scale\":{\"id\":\"55340\",\"type\":\"LinearScale\"},\"y_range\":{\"id\":\"55338\",\"type\":\"DataRange1d\"},\"y_scale\":{\"id\":\"55342\",\"type\":\"LinearScale\"}},\"id\":\"55335\",\"subtype\":\"Figure\",\"type\":\"Plot\"},{\"attributes\":{\"callback\":null},\"id\":\"55307\",\"type\":\"DataRange1d\"},{\"attributes\":{\"line_color\":\"red\",\"x\":{\"field\":\"x\"},\"y\":{\"field\":\"y\"}},\"id\":\"55331\",\"type\":\"Line\"},{\"attributes\":{},\"id\":\"56500\",\"type\":\"Selection\"},{\"attributes\":{},\"id\":\"55350\",\"type\":\"BasicTicker\"},{\"attributes\":{},\"id\":\"55321\",\"type\":\"BasicTicker\"},{\"attributes\":{\"active_drag\":\"auto\",\"active_inspect\":\"auto\",\"active_multi\":null,\"active_scroll\":\"auto\",\"active_tap\":\"auto\",\"tools\":[{\"id\":\"55354\",\"type\":\"PanTool\"},{\"id\":\"55355\",\"type\":\"WheelZoomTool\"},{\"id\":\"55356\",\"type\":\"BoxZoomTool\"},{\"id\":\"55357\",\"type\":\"SaveTool\"},{\"id\":\"55358\",\"type\":\"ResetTool\"},{\"id\":\"55359\",\"type\":\"HelpTool\"}]},\"id\":\"55360\",\"type\":\"Toolbar\"},{\"attributes\":{\"source\":{\"id\":\"55369\",\"type\":\"ColumnDataSource\"}},\"id\":\"55373\",\"type\":\"CDSView\"},{\"attributes\":{},\"id\":\"56503\",\"type\":\"Selection\"},{\"attributes\":{\"formatter\":{\"id\":\"56492\",\"type\":\"BasicTickFormatter\"},\"plot\":{\"id\":\"55306\",\"subtype\":\"Figure\",\"type\":\"Plot\"},\"ticker\":{\"id\":\"55316\",\"type\":\"BasicTicker\"}},\"id\":\"55315\",\"type\":\"LinearAxis\"},{\"attributes\":{\"plot\":null,\"text\":\"\"},\"id\":\"56489\",\"type\":\"Title\"},{\"attributes\":{},\"id\":\"55326\",\"type\":\"ResetTool\"},{\"attributes\":{},\"id\":\"55358\",\"type\":\"ResetTool\"},{\"attributes\":{},\"id\":\"55340\",\"type\":\"LinearScale\"},{\"attributes\":{},\"id\":\"55345\",\"type\":\"BasicTicker\"},{\"attributes\":{\"fill_alpha\":{\"value\":0.1},\"fill_color\":{\"value\":\"#1f77b4\"},\"line_alpha\":{\"value\":0.1},\"line_color\":{\"value\":\"#1f77b4\"},\"size\":{\"units\":\"screen\",\"value\":10},\"x\":{\"field\":\"x\"},\"y\":{\"field\":\"y\"}},\"id\":\"55371\",\"type\":\"Triangle\"},{\"attributes\":{\"formatter\":{\"id\":\"56494\",\"type\":\"BasicTickFormatter\"},\"plot\":{\"id\":\"55306\",\"subtype\":\"Figure\",\"type\":\"Plot\"},\"ticker\":{\"id\":\"55321\",\"type\":\"BasicTicker\"}},\"id\":\"55320\",\"type\":\"LinearAxis\"},{\"attributes\":{\"dimension\":1,\"plot\":{\"id\":\"55306\",\"subtype\":\"Figure\",\"type\":\"Plot\"},\"ticker\":{\"id\":\"55321\",\"type\":\"BasicTicker\"}},\"id\":\"55324\",\"type\":\"Grid\"},{\"attributes\":{\"callback\":null},\"id\":\"55309\",\"type\":\"DataRange1d\"},{\"attributes\":{\"below\":[{\"id\":\"55315\",\"type\":\"LinearAxis\"}],\"left\":[{\"id\":\"55320\",\"type\":\"LinearAxis\"}],\"plot_height\":200,\"plot_width\":200,\"renderers\":[{\"id\":\"55315\",\"type\":\"LinearAxis\"},{\"id\":\"55319\",\"type\":\"Grid\"},{\"id\":\"55320\",\"type\":\"LinearAxis\"},{\"id\":\"55324\",\"type\":\"Grid\"},{\"id\":\"55333\",\"type\":\"GlyphRenderer\"}],\"title\":{\"id\":\"56487\",\"type\":\"Title\"},\"toolbar\":{\"id\":\"55327\",\"type\":\"Toolbar\"},\"x_range\":{\"id\":\"55307\",\"type\":\"DataRange1d\"},\"x_scale\":{\"id\":\"55311\",\"type\":\"LinearScale\"},\"y_range\":{\"id\":\"55309\",\"type\":\"DataRange1d\"},\"y_scale\":{\"id\":\"55313\",\"type\":\"LinearScale\"}},\"id\":\"55306\",\"subtype\":\"Figure\",\"type\":\"Plot\"},{\"attributes\":{},\"id\":\"55359\",\"type\":\"HelpTool\"},{\"attributes\":{},\"id\":\"56496\",\"type\":\"BasicTickFormatter\"},{\"attributes\":{\"formatter\":{\"id\":\"56496\",\"type\":\"BasicTickFormatter\"},\"plot\":{\"id\":\"55335\",\"subtype\":\"Figure\",\"type\":\"Plot\"},\"ticker\":{\"id\":\"55345\",\"type\":\"BasicTicker\"}},\"id\":\"55344\",\"type\":\"LinearAxis\"},{\"attributes\":{\"line_alpha\":0.1,\"line_color\":\"#1f77b4\",\"x\":{\"field\":\"x\"},\"y\":{\"field\":\"y\"}},\"id\":\"55332\",\"type\":\"Line\"},{\"attributes\":{\"active_drag\":\"auto\",\"active_inspect\":\"auto\",\"active_multi\":null,\"active_scroll\":\"auto\",\"active_tap\":\"auto\",\"tools\":[{\"id\":\"55325\",\"type\":\"WheelZoomTool\"},{\"id\":\"55326\",\"type\":\"ResetTool\"}]},\"id\":\"55327\",\"type\":\"Toolbar\"},{\"attributes\":{},\"id\":\"56492\",\"type\":\"BasicTickFormatter\"},{\"attributes\":{\"source\":{\"id\":\"55330\",\"type\":\"ColumnDataSource\"}},\"id\":\"55334\",\"type\":\"CDSView\"},{\"attributes\":{},\"id\":\"55325\",\"type\":\"WheelZoomTool\"},{\"attributes\":{\"overlay\":{\"id\":\"55362\",\"type\":\"BoxAnnotation\"}},\"id\":\"55356\",\"type\":\"BoxZoomTool\"},{\"attributes\":{\"plot\":null,\"text\":\"\"},\"id\":\"56487\",\"type\":\"Title\"},{\"attributes\":{\"plot\":{\"id\":\"55306\",\"subtype\":\"Figure\",\"type\":\"Plot\"},\"ticker\":{\"id\":\"55316\",\"type\":\"BasicTicker\"}},\"id\":\"55319\",\"type\":\"Grid\"},{\"attributes\":{},\"id\":\"55354\",\"type\":\"PanTool\"},{\"attributes\":{},\"id\":\"55342\",\"type\":\"LinearScale\"},{\"attributes\":{},\"id\":\"56494\",\"type\":\"BasicTickFormatter\"},{\"attributes\":{},\"id\":\"55357\",\"type\":\"SaveTool\"},{\"attributes\":{},\"id\":\"56498\",\"type\":\"BasicTickFormatter\"},{\"attributes\":{\"callback\":null,\"data\":{\"x\":[1,2,3],\"y\":[2,3,4]},\"selected\":{\"id\":\"56503\",\"type\":\"Selection\"},\"selection_policy\":{\"id\":\"56502\",\"type\":\"UnionRenderers\"}},\"id\":\"55369\",\"type\":\"ColumnDataSource\"},{\"attributes\":{\"fill_color\":{\"value\":\"#1f77b4\"},\"line_color\":{\"value\":\"#1f77b4\"},\"size\":{\"units\":\"screen\",\"value\":10},\"x\":{\"field\":\"x\"},\"y\":{\"field\":\"y\"}},\"id\":\"55370\",\"type\":\"Triangle\"},{\"attributes\":{\"plot\":{\"id\":\"55335\",\"subtype\":\"Figure\",\"type\":\"Plot\"},\"ticker\":{\"id\":\"55345\",\"type\":\"BasicTicker\"}},\"id\":\"55348\",\"type\":\"Grid\"},{\"attributes\":{},\"id\":\"55355\",\"type\":\"WheelZoomTool\"},{\"attributes\":{\"data_source\":{\"id\":\"55330\",\"type\":\"ColumnDataSource\"},\"glyph\":{\"id\":\"55331\",\"type\":\"Line\"},\"hover_glyph\":null,\"muted_glyph\":null,\"nonselection_glyph\":{\"id\":\"55332\",\"type\":\"Line\"},\"selection_glyph\":null,\"view\":{\"id\":\"55334\",\"type\":\"CDSView\"}},\"id\":\"55333\",\"type\":\"GlyphRenderer\"}],\"root_ids\":[\"55374\"]},\"title\":\"Bokeh Application\",\"version\":\"1.0.4\"}};\n",
       "  var render_items = [{\"docid\":\"d53f44a3-d55b-4830-8d47-6d20f5fc2501\",\"roots\":{\"55374\":\"dd0a794e-b961-439b-995d-6257ff44e117\"}}];\n",
       "  root.Bokeh.embed.embed_items_notebook(docs_json, render_items);\n",
       "\n",
       "  }\n",
       "  if (root.Bokeh !== undefined) {\n",
       "    embed_document(root);\n",
       "  } else {\n",
       "    var attempts = 0;\n",
       "    var timer = setInterval(function(root) {\n",
       "      if (root.Bokeh !== undefined) {\n",
       "        embed_document(root);\n",
       "        clearInterval(timer);\n",
       "      }\n",
       "      attempts++;\n",
       "      if (attempts > 100) {\n",
       "        console.log(\"Bokeh: ERROR: Unable to run BokehJS code because BokehJS library is missing\");\n",
       "        clearInterval(timer);\n",
       "      }\n",
       "    }, 10, root)\n",
       "  }\n",
       "})(window);"
      ],
      "application/vnd.bokehjs_exec.v0+json": ""
     },
     "metadata": {
      "application/vnd.bokehjs_exec.v0+json": {
       "id": "55374"
      }
     },
     "output_type": "display_data"
    }
   ],
   "source": [
    "# MULTIPLE LAYOUTS (horizontal/vertical/grid layouts)\n",
    "\n",
    "from bokeh.layouts import column, row, gridplot\n",
    "\n",
    "#for vertical plots, you just need to create multiple figure plots one after another\n",
    "#or you can use the column function\n",
    "# for horizontal plots, you need to use row\n",
    "# if you want to create grid layouts, just use gridplot and enter in the plots as a list/matrix \n",
    "# for gridplots (if you want an empty space, just enter in None in place of a plot)\n",
    "\n",
    "x = [1, 2, 3]\n",
    "y = [2, 3, 4]\n",
    "\n",
    "TOOLS = \"wheel_zoom, reset\" #zoom in and out tool\n",
    "plot1 = figure(tools=TOOLS, width=200, height=200)\n",
    "plot1.line(x, y, color=\"red\")\n",
    "# show(plot1)\n",
    "\n",
    "plot2 = figure(width=200, height=200)\n",
    "plot2.triangle(x, y, size=10) #different shapes for scatter plot points available (triangle, square, circle,)\n",
    "# show(plot2)\n",
    "\n",
    "#etc. if you want to add more\n",
    "\n",
    "#you could do \"show(...)\" or you could add them all to one \"column\" to avoid being redundant, \n",
    "#they'll also show up all at once instead of one at a time, just note that you will need to import it from bokeh.layouts\n",
    "\n",
    "p = column(plot1, plot2)\n",
    "show(p) \n"
   ]
  },
  {
   "cell_type": "code",
   "execution_count": 118,
   "metadata": {},
   "outputs": [
    {
     "name": "stdout",
     "output_type": "stream",
     "text": [
      "HORIZONTAL LAYOUT\n"
     ]
    },
    {
     "data": {
      "text/html": [
       "\n",
       "\n",
       "\n",
       "\n",
       "\n",
       "\n",
       "  <div class=\"bk-root\" id=\"d4d4b65a-3f0b-4ecb-bae5-33a215492fd0\" data-root-id=\"50362\"></div>\n"
      ]
     },
     "metadata": {},
     "output_type": "display_data"
    },
    {
     "data": {
      "application/javascript": [
       "(function(root) {\n",
       "  function embed_document(root) {\n",
       "    \n",
       "  var docs_json = {\"d9774d57-3d62-4e1a-a75b-6b90b64c779c\":{\"roots\":{\"references\":[{\"attributes\":{\"children\":[{\"id\":\"49134\",\"subtype\":\"Figure\",\"type\":\"Plot\"},{\"id\":\"49173\",\"subtype\":\"Figure\",\"type\":\"Plot\"}]},\"id\":\"50362\",\"type\":\"Row\"},{\"attributes\":{\"formatter\":{\"id\":\"50241\",\"type\":\"BasicTickFormatter\"},\"plot\":{\"id\":\"49134\",\"subtype\":\"Figure\",\"type\":\"Plot\"},\"ticker\":{\"id\":\"49144\",\"type\":\"BasicTicker\"}},\"id\":\"49143\",\"type\":\"LinearAxis\"},{\"attributes\":{\"overlay\":{\"id\":\"49200\",\"type\":\"BoxAnnotation\"}},\"id\":\"49194\",\"type\":\"BoxZoomTool\"},{\"attributes\":{\"plot\":null,\"text\":\"\"},\"id\":\"50238\",\"type\":\"Title\"},{\"attributes\":{\"plot\":{\"id\":\"49173\",\"subtype\":\"Figure\",\"type\":\"Plot\"},\"ticker\":{\"id\":\"49183\",\"type\":\"BasicTicker\"}},\"id\":\"49186\",\"type\":\"Grid\"},{\"attributes\":{\"data_source\":{\"id\":\"49207\",\"type\":\"ColumnDataSource\"},\"glyph\":{\"id\":\"49208\",\"type\":\"Triangle\"},\"hover_glyph\":null,\"muted_glyph\":null,\"nonselection_glyph\":{\"id\":\"49209\",\"type\":\"Triangle\"},\"selection_glyph\":null,\"view\":{\"id\":\"49211\",\"type\":\"CDSView\"}},\"id\":\"49210\",\"type\":\"GlyphRenderer\"},{\"attributes\":{},\"id\":\"50241\",\"type\":\"BasicTickFormatter\"},{\"attributes\":{},\"id\":\"50250\",\"type\":\"Selection\"},{\"attributes\":{\"data_source\":{\"id\":\"49168\",\"type\":\"ColumnDataSource\"},\"glyph\":{\"id\":\"49169\",\"type\":\"Line\"},\"hover_glyph\":null,\"muted_glyph\":null,\"nonselection_glyph\":{\"id\":\"49170\",\"type\":\"Line\"},\"selection_glyph\":null,\"view\":{\"id\":\"49172\",\"type\":\"CDSView\"}},\"id\":\"49171\",\"type\":\"GlyphRenderer\"},{\"attributes\":{},\"id\":\"50252\",\"type\":\"UnionRenderers\"},{\"attributes\":{\"callback\":null},\"id\":\"49174\",\"type\":\"DataRange1d\"},{\"attributes\":{},\"id\":\"49196\",\"type\":\"ResetTool\"},{\"attributes\":{},\"id\":\"50245\",\"type\":\"BasicTickFormatter\"},{\"attributes\":{\"plot\":{\"id\":\"49134\",\"subtype\":\"Figure\",\"type\":\"Plot\"},\"ticker\":{\"id\":\"49144\",\"type\":\"BasicTicker\"}},\"id\":\"49147\",\"type\":\"Grid\"},{\"attributes\":{\"source\":{\"id\":\"49168\",\"type\":\"ColumnDataSource\"}},\"id\":\"49172\",\"type\":\"CDSView\"},{\"attributes\":{\"callback\":null,\"data\":{\"x\":[1,2,3],\"y\":[2,3,4]},\"selected\":{\"id\":\"50250\",\"type\":\"Selection\"},\"selection_policy\":{\"id\":\"50249\",\"type\":\"UnionRenderers\"}},\"id\":\"49168\",\"type\":\"ColumnDataSource\"},{\"attributes\":{\"source\":{\"id\":\"49207\",\"type\":\"ColumnDataSource\"}},\"id\":\"49211\",\"type\":\"CDSView\"},{\"attributes\":{\"callback\":null},\"id\":\"49137\",\"type\":\"DataRange1d\"},{\"attributes\":{\"formatter\":{\"id\":\"50243\",\"type\":\"BasicTickFormatter\"},\"plot\":{\"id\":\"49134\",\"subtype\":\"Figure\",\"type\":\"Plot\"},\"ticker\":{\"id\":\"49149\",\"type\":\"BasicTicker\"}},\"id\":\"49148\",\"type\":\"LinearAxis\"},{\"attributes\":{},\"id\":\"49195\",\"type\":\"SaveTool\"},{\"attributes\":{},\"id\":\"50253\",\"type\":\"Selection\"},{\"attributes\":{\"callback\":null},\"id\":\"49135\",\"type\":\"DataRange1d\"},{\"attributes\":{},\"id\":\"49157\",\"type\":\"ResetTool\"},{\"attributes\":{\"bottom_units\":\"screen\",\"fill_alpha\":{\"value\":0.5},\"fill_color\":{\"value\":\"lightgrey\"},\"left_units\":\"screen\",\"level\":\"overlay\",\"line_alpha\":{\"value\":1.0},\"line_color\":{\"value\":\"black\"},\"line_dash\":[4,4],\"line_width\":{\"value\":2},\"plot\":null,\"render_mode\":\"css\",\"right_units\":\"screen\",\"top_units\":\"screen\"},\"id\":\"49161\",\"type\":\"BoxAnnotation\"},{\"attributes\":{\"callback\":null,\"data\":{\"x\":[1,2,3],\"y\":[2,3,4]},\"selected\":{\"id\":\"50253\",\"type\":\"Selection\"},\"selection_policy\":{\"id\":\"50252\",\"type\":\"UnionRenderers\"}},\"id\":\"49207\",\"type\":\"ColumnDataSource\"},{\"attributes\":{\"dimension\":1,\"plot\":{\"id\":\"49173\",\"subtype\":\"Figure\",\"type\":\"Plot\"},\"ticker\":{\"id\":\"49188\",\"type\":\"BasicTicker\"}},\"id\":\"49191\",\"type\":\"Grid\"},{\"attributes\":{},\"id\":\"49141\",\"type\":\"LinearScale\"},{\"attributes\":{\"fill_alpha\":{\"value\":0.1},\"fill_color\":{\"value\":\"#1f77b4\"},\"line_alpha\":{\"value\":0.1},\"line_color\":{\"value\":\"#1f77b4\"},\"size\":{\"units\":\"screen\",\"value\":10},\"x\":{\"field\":\"x\"},\"y\":{\"field\":\"y\"}},\"id\":\"49209\",\"type\":\"Triangle\"},{\"attributes\":{},\"id\":\"49180\",\"type\":\"LinearScale\"},{\"attributes\":{\"active_drag\":\"auto\",\"active_inspect\":\"auto\",\"active_multi\":null,\"active_scroll\":\"auto\",\"active_tap\":\"auto\",\"tools\":[{\"id\":\"49192\",\"type\":\"PanTool\"},{\"id\":\"49193\",\"type\":\"WheelZoomTool\"},{\"id\":\"49194\",\"type\":\"BoxZoomTool\"},{\"id\":\"49195\",\"type\":\"SaveTool\"},{\"id\":\"49196\",\"type\":\"ResetTool\"},{\"id\":\"49197\",\"type\":\"HelpTool\"}]},\"id\":\"49198\",\"type\":\"Toolbar\"},{\"attributes\":{},\"id\":\"49156\",\"type\":\"SaveTool\"},{\"attributes\":{\"overlay\":{\"id\":\"49161\",\"type\":\"BoxAnnotation\"}},\"id\":\"49155\",\"type\":\"BoxZoomTool\"},{\"attributes\":{},\"id\":\"49192\",\"type\":\"PanTool\"},{\"attributes\":{\"fill_color\":{\"value\":\"#1f77b4\"},\"line_color\":{\"value\":\"#1f77b4\"},\"size\":{\"units\":\"screen\",\"value\":10},\"x\":{\"field\":\"x\"},\"y\":{\"field\":\"y\"}},\"id\":\"49208\",\"type\":\"Triangle\"},{\"attributes\":{},\"id\":\"49154\",\"type\":\"WheelZoomTool\"},{\"attributes\":{},\"id\":\"49149\",\"type\":\"BasicTicker\"},{\"attributes\":{},\"id\":\"50243\",\"type\":\"BasicTickFormatter\"},{\"attributes\":{\"formatter\":{\"id\":\"50245\",\"type\":\"BasicTickFormatter\"},\"plot\":{\"id\":\"49173\",\"subtype\":\"Figure\",\"type\":\"Plot\"},\"ticker\":{\"id\":\"49183\",\"type\":\"BasicTicker\"}},\"id\":\"49182\",\"type\":\"LinearAxis\"},{\"attributes\":{},\"id\":\"49158\",\"type\":\"HelpTool\"},{\"attributes\":{},\"id\":\"50249\",\"type\":\"UnionRenderers\"},{\"attributes\":{\"below\":[{\"id\":\"49143\",\"type\":\"LinearAxis\"}],\"left\":[{\"id\":\"49148\",\"type\":\"LinearAxis\"}],\"plot_height\":200,\"plot_width\":200,\"renderers\":[{\"id\":\"49143\",\"type\":\"LinearAxis\"},{\"id\":\"49147\",\"type\":\"Grid\"},{\"id\":\"49148\",\"type\":\"LinearAxis\"},{\"id\":\"49152\",\"type\":\"Grid\"},{\"id\":\"49161\",\"type\":\"BoxAnnotation\"},{\"id\":\"49171\",\"type\":\"GlyphRenderer\"}],\"title\":{\"id\":\"50236\",\"type\":\"Title\"},\"toolbar\":{\"id\":\"49159\",\"type\":\"Toolbar\"},\"x_range\":{\"id\":\"49135\",\"type\":\"DataRange1d\"},\"x_scale\":{\"id\":\"49139\",\"type\":\"LinearScale\"},\"y_range\":{\"id\":\"49137\",\"type\":\"DataRange1d\"},\"y_scale\":{\"id\":\"49141\",\"type\":\"LinearScale\"}},\"id\":\"49134\",\"subtype\":\"Figure\",\"type\":\"Plot\"},{\"attributes\":{\"below\":[{\"id\":\"49182\",\"type\":\"LinearAxis\"}],\"left\":[{\"id\":\"49187\",\"type\":\"LinearAxis\"}],\"plot_height\":200,\"plot_width\":200,\"renderers\":[{\"id\":\"49182\",\"type\":\"LinearAxis\"},{\"id\":\"49186\",\"type\":\"Grid\"},{\"id\":\"49187\",\"type\":\"LinearAxis\"},{\"id\":\"49191\",\"type\":\"Grid\"},{\"id\":\"49200\",\"type\":\"BoxAnnotation\"},{\"id\":\"49210\",\"type\":\"GlyphRenderer\"}],\"title\":{\"id\":\"50238\",\"type\":\"Title\"},\"toolbar\":{\"id\":\"49198\",\"type\":\"Toolbar\"},\"x_range\":{\"id\":\"49174\",\"type\":\"DataRange1d\"},\"x_scale\":{\"id\":\"49178\",\"type\":\"LinearScale\"},\"y_range\":{\"id\":\"49176\",\"type\":\"DataRange1d\"},\"y_scale\":{\"id\":\"49180\",\"type\":\"LinearScale\"}},\"id\":\"49173\",\"subtype\":\"Figure\",\"type\":\"Plot\"},{\"attributes\":{},\"id\":\"49178\",\"type\":\"LinearScale\"},{\"attributes\":{\"plot\":null,\"text\":\"\"},\"id\":\"50236\",\"type\":\"Title\"},{\"attributes\":{\"formatter\":{\"id\":\"50247\",\"type\":\"BasicTickFormatter\"},\"plot\":{\"id\":\"49173\",\"subtype\":\"Figure\",\"type\":\"Plot\"},\"ticker\":{\"id\":\"49188\",\"type\":\"BasicTicker\"}},\"id\":\"49187\",\"type\":\"LinearAxis\"},{\"attributes\":{},\"id\":\"49153\",\"type\":\"PanTool\"},{\"attributes\":{},\"id\":\"49144\",\"type\":\"BasicTicker\"},{\"attributes\":{},\"id\":\"49197\",\"type\":\"HelpTool\"},{\"attributes\":{},\"id\":\"49183\",\"type\":\"BasicTicker\"},{\"attributes\":{},\"id\":\"49139\",\"type\":\"LinearScale\"},{\"attributes\":{\"line_alpha\":0.1,\"line_color\":\"#1f77b4\",\"x\":{\"field\":\"x\"},\"y\":{\"field\":\"y\"}},\"id\":\"49170\",\"type\":\"Line\"},{\"attributes\":{},\"id\":\"50247\",\"type\":\"BasicTickFormatter\"},{\"attributes\":{},\"id\":\"49193\",\"type\":\"WheelZoomTool\"},{\"attributes\":{\"dimension\":1,\"plot\":{\"id\":\"49134\",\"subtype\":\"Figure\",\"type\":\"Plot\"},\"ticker\":{\"id\":\"49149\",\"type\":\"BasicTicker\"}},\"id\":\"49152\",\"type\":\"Grid\"},{\"attributes\":{\"line_color\":\"red\",\"x\":{\"field\":\"x\"},\"y\":{\"field\":\"y\"}},\"id\":\"49169\",\"type\":\"Line\"},{\"attributes\":{\"bottom_units\":\"screen\",\"fill_alpha\":{\"value\":0.5},\"fill_color\":{\"value\":\"lightgrey\"},\"left_units\":\"screen\",\"level\":\"overlay\",\"line_alpha\":{\"value\":1.0},\"line_color\":{\"value\":\"black\"},\"line_dash\":[4,4],\"line_width\":{\"value\":2},\"plot\":null,\"render_mode\":\"css\",\"right_units\":\"screen\",\"top_units\":\"screen\"},\"id\":\"49200\",\"type\":\"BoxAnnotation\"},{\"attributes\":{\"active_drag\":\"auto\",\"active_inspect\":\"auto\",\"active_multi\":null,\"active_scroll\":\"auto\",\"active_tap\":\"auto\",\"tools\":[{\"id\":\"49153\",\"type\":\"PanTool\"},{\"id\":\"49154\",\"type\":\"WheelZoomTool\"},{\"id\":\"49155\",\"type\":\"BoxZoomTool\"},{\"id\":\"49156\",\"type\":\"SaveTool\"},{\"id\":\"49157\",\"type\":\"ResetTool\"},{\"id\":\"49158\",\"type\":\"HelpTool\"}]},\"id\":\"49159\",\"type\":\"Toolbar\"},{\"attributes\":{\"callback\":null},\"id\":\"49176\",\"type\":\"DataRange1d\"},{\"attributes\":{},\"id\":\"49188\",\"type\":\"BasicTicker\"}],\"root_ids\":[\"50362\"]},\"title\":\"Bokeh Application\",\"version\":\"1.0.4\"}};\n",
       "  var render_items = [{\"docid\":\"d9774d57-3d62-4e1a-a75b-6b90b64c779c\",\"roots\":{\"50362\":\"d4d4b65a-3f0b-4ecb-bae5-33a215492fd0\"}}];\n",
       "  root.Bokeh.embed.embed_items_notebook(docs_json, render_items);\n",
       "\n",
       "  }\n",
       "  if (root.Bokeh !== undefined) {\n",
       "    embed_document(root);\n",
       "  } else {\n",
       "    var attempts = 0;\n",
       "    var timer = setInterval(function(root) {\n",
       "      if (root.Bokeh !== undefined) {\n",
       "        embed_document(root);\n",
       "        clearInterval(timer);\n",
       "      }\n",
       "      attempts++;\n",
       "      if (attempts > 100) {\n",
       "        console.log(\"Bokeh: ERROR: Unable to run BokehJS code because BokehJS library is missing\");\n",
       "        clearInterval(timer);\n",
       "      }\n",
       "    }, 10, root)\n",
       "  }\n",
       "})(window);"
      ],
      "application/vnd.bokehjs_exec.v0+json": ""
     },
     "metadata": {
      "application/vnd.bokehjs_exec.v0+json": {
       "id": "50362"
      }
     },
     "output_type": "display_data"
    },
    {
     "name": "stdout",
     "output_type": "stream",
     "text": [
      "GRID LAYOUT\n"
     ]
    },
    {
     "data": {
      "text/html": [
       "\n",
       "\n",
       "\n",
       "\n",
       "\n",
       "\n",
       "  <div class=\"bk-root\" id=\"98938cf4-ad23-4166-983b-2fa119c9162e\" data-root-id=\"51557\"></div>\n"
      ]
     },
     "metadata": {},
     "output_type": "display_data"
    },
    {
     "data": {
      "application/javascript": [
       "(function(root) {\n",
       "  function embed_document(root) {\n",
       "    \n",
       "  var docs_json = {\"e73b86cf-24e3-4936-8e39-f0258a3cc8dd\":{\"roots\":{\"references\":[{\"attributes\":{\"children\":[{\"id\":\"51556\",\"type\":\"ToolbarBox\"},{\"id\":\"51554\",\"type\":\"Column\"}]},\"id\":\"51557\",\"type\":\"Column\"},{\"attributes\":{\"formatter\":{\"id\":\"50241\",\"type\":\"BasicTickFormatter\"},\"plot\":{\"id\":\"49134\",\"subtype\":\"Figure\",\"type\":\"Plot\"},\"ticker\":{\"id\":\"49144\",\"type\":\"BasicTicker\"}},\"id\":\"49143\",\"type\":\"LinearAxis\"},{\"attributes\":{\"overlay\":{\"id\":\"49200\",\"type\":\"BoxAnnotation\"}},\"id\":\"49194\",\"type\":\"BoxZoomTool\"},{\"attributes\":{\"active_drag\":\"auto\",\"active_inspect\":\"auto\",\"active_multi\":null,\"active_scroll\":\"auto\",\"active_tap\":\"auto\",\"tools\":[{\"id\":\"49153\",\"type\":\"PanTool\"},{\"id\":\"49154\",\"type\":\"WheelZoomTool\"},{\"id\":\"49155\",\"type\":\"BoxZoomTool\"},{\"id\":\"49156\",\"type\":\"SaveTool\"},{\"id\":\"49157\",\"type\":\"ResetTool\"},{\"id\":\"49158\",\"type\":\"HelpTool\"}]},\"id\":\"49159\",\"type\":\"Toolbar\"},{\"attributes\":{\"plot\":null,\"text\":\"\"},\"id\":\"50238\",\"type\":\"Title\"},{\"attributes\":{\"plot\":{\"id\":\"49173\",\"subtype\":\"Figure\",\"type\":\"Plot\"},\"ticker\":{\"id\":\"49183\",\"type\":\"BasicTicker\"}},\"id\":\"49186\",\"type\":\"Grid\"},{\"attributes\":{\"children\":[{\"id\":\"51542\",\"type\":\"Spacer\"},{\"id\":\"49173\",\"subtype\":\"Figure\",\"type\":\"Plot\"}]},\"id\":\"51553\",\"type\":\"Row\"},{\"attributes\":{\"data_source\":{\"id\":\"49207\",\"type\":\"ColumnDataSource\"},\"glyph\":{\"id\":\"49208\",\"type\":\"Triangle\"},\"hover_glyph\":null,\"muted_glyph\":null,\"nonselection_glyph\":{\"id\":\"49209\",\"type\":\"Triangle\"},\"selection_glyph\":null,\"view\":{\"id\":\"49211\",\"type\":\"CDSView\"}},\"id\":\"49210\",\"type\":\"GlyphRenderer\"},{\"attributes\":{},\"id\":\"50241\",\"type\":\"BasicTickFormatter\"},{\"attributes\":{},\"id\":\"50250\",\"type\":\"Selection\"},{\"attributes\":{\"data_source\":{\"id\":\"49168\",\"type\":\"ColumnDataSource\"},\"glyph\":{\"id\":\"49169\",\"type\":\"Line\"},\"hover_glyph\":null,\"muted_glyph\":null,\"nonselection_glyph\":{\"id\":\"49170\",\"type\":\"Line\"},\"selection_glyph\":null,\"view\":{\"id\":\"49172\",\"type\":\"CDSView\"}},\"id\":\"49171\",\"type\":\"GlyphRenderer\"},{\"attributes\":{},\"id\":\"50252\",\"type\":\"UnionRenderers\"},{\"attributes\":{\"callback\":null},\"id\":\"49174\",\"type\":\"DataRange1d\"},{\"attributes\":{},\"id\":\"50245\",\"type\":\"BasicTickFormatter\"},{\"attributes\":{\"plot\":{\"id\":\"49134\",\"subtype\":\"Figure\",\"type\":\"Plot\"},\"ticker\":{\"id\":\"49144\",\"type\":\"BasicTicker\"}},\"id\":\"49147\",\"type\":\"Grid\"},{\"attributes\":{\"source\":{\"id\":\"49168\",\"type\":\"ColumnDataSource\"}},\"id\":\"49172\",\"type\":\"CDSView\"},{\"attributes\":{\"callback\":null,\"data\":{\"x\":[1,2,3],\"y\":[2,3,4]},\"selected\":{\"id\":\"50250\",\"type\":\"Selection\"},\"selection_policy\":{\"id\":\"50249\",\"type\":\"UnionRenderers\"}},\"id\":\"49168\",\"type\":\"ColumnDataSource\"},{\"attributes\":{\"source\":{\"id\":\"49207\",\"type\":\"ColumnDataSource\"}},\"id\":\"49211\",\"type\":\"CDSView\"},{\"attributes\":{\"callback\":null},\"id\":\"49137\",\"type\":\"DataRange1d\"},{\"attributes\":{\"children\":[{\"id\":\"49134\",\"subtype\":\"Figure\",\"type\":\"Plot\"},{\"id\":\"51540\",\"type\":\"Spacer\"}]},\"id\":\"51541\",\"type\":\"Row\"},{\"attributes\":{},\"id\":\"49195\",\"type\":\"SaveTool\"},{\"attributes\":{\"formatter\":{\"id\":\"50243\",\"type\":\"BasicTickFormatter\"},\"plot\":{\"id\":\"49134\",\"subtype\":\"Figure\",\"type\":\"Plot\"},\"ticker\":{\"id\":\"49149\",\"type\":\"BasicTicker\"}},\"id\":\"49148\",\"type\":\"LinearAxis\"},{\"attributes\":{},\"id\":\"50253\",\"type\":\"Selection\"},{\"attributes\":{\"children\":[{\"id\":\"51541\",\"type\":\"Row\"},{\"id\":\"51553\",\"type\":\"Row\"}]},\"id\":\"51554\",\"type\":\"Column\"},{\"attributes\":{},\"id\":\"49157\",\"type\":\"ResetTool\"},{\"attributes\":{\"callback\":null},\"id\":\"49135\",\"type\":\"DataRange1d\"},{\"attributes\":{\"bottom_units\":\"screen\",\"fill_alpha\":{\"value\":0.5},\"fill_color\":{\"value\":\"lightgrey\"},\"left_units\":\"screen\",\"level\":\"overlay\",\"line_alpha\":{\"value\":1.0},\"line_color\":{\"value\":\"black\"},\"line_dash\":[4,4],\"line_width\":{\"value\":2},\"plot\":null,\"render_mode\":\"css\",\"right_units\":\"screen\",\"top_units\":\"screen\"},\"id\":\"49161\",\"type\":\"BoxAnnotation\"},{\"attributes\":{\"height\":200,\"width\":200},\"id\":\"51542\",\"type\":\"Spacer\"},{\"attributes\":{\"dimension\":1,\"plot\":{\"id\":\"49173\",\"subtype\":\"Figure\",\"type\":\"Plot\"},\"ticker\":{\"id\":\"49188\",\"type\":\"BasicTicker\"}},\"id\":\"49191\",\"type\":\"Grid\"},{\"attributes\":{\"callback\":null,\"data\":{\"x\":[1,2,3],\"y\":[2,3,4]},\"selected\":{\"id\":\"50253\",\"type\":\"Selection\"},\"selection_policy\":{\"id\":\"50252\",\"type\":\"UnionRenderers\"}},\"id\":\"49207\",\"type\":\"ColumnDataSource\"},{\"attributes\":{},\"id\":\"49141\",\"type\":\"LinearScale\"},{\"attributes\":{\"fill_alpha\":{\"value\":0.1},\"fill_color\":{\"value\":\"#1f77b4\"},\"line_alpha\":{\"value\":0.1},\"line_color\":{\"value\":\"#1f77b4\"},\"size\":{\"units\":\"screen\",\"value\":10},\"x\":{\"field\":\"x\"},\"y\":{\"field\":\"y\"}},\"id\":\"49209\",\"type\":\"Triangle\"},{\"attributes\":{},\"id\":\"49156\",\"type\":\"SaveTool\"},{\"attributes\":{},\"id\":\"49180\",\"type\":\"LinearScale\"},{\"attributes\":{\"active_drag\":\"auto\",\"active_inspect\":\"auto\",\"active_multi\":null,\"active_scroll\":\"auto\",\"active_tap\":\"auto\",\"tools\":[{\"id\":\"49192\",\"type\":\"PanTool\"},{\"id\":\"49193\",\"type\":\"WheelZoomTool\"},{\"id\":\"49194\",\"type\":\"BoxZoomTool\"},{\"id\":\"49195\",\"type\":\"SaveTool\"},{\"id\":\"49196\",\"type\":\"ResetTool\"},{\"id\":\"49197\",\"type\":\"HelpTool\"}]},\"id\":\"49198\",\"type\":\"Toolbar\"},{\"attributes\":{\"overlay\":{\"id\":\"49161\",\"type\":\"BoxAnnotation\"}},\"id\":\"49155\",\"type\":\"BoxZoomTool\"},{\"attributes\":{},\"id\":\"49192\",\"type\":\"PanTool\"},{\"attributes\":{\"fill_color\":{\"value\":\"#1f77b4\"},\"line_color\":{\"value\":\"#1f77b4\"},\"size\":{\"units\":\"screen\",\"value\":10},\"x\":{\"field\":\"x\"},\"y\":{\"field\":\"y\"}},\"id\":\"49208\",\"type\":\"Triangle\"},{\"attributes\":{},\"id\":\"49154\",\"type\":\"WheelZoomTool\"},{\"attributes\":{},\"id\":\"49149\",\"type\":\"BasicTicker\"},{\"attributes\":{},\"id\":\"50243\",\"type\":\"BasicTickFormatter\"},{\"attributes\":{\"formatter\":{\"id\":\"50245\",\"type\":\"BasicTickFormatter\"},\"plot\":{\"id\":\"49173\",\"subtype\":\"Figure\",\"type\":\"Plot\"},\"ticker\":{\"id\":\"49183\",\"type\":\"BasicTicker\"}},\"id\":\"49182\",\"type\":\"LinearAxis\"},{\"attributes\":{},\"id\":\"49158\",\"type\":\"HelpTool\"},{\"attributes\":{},\"id\":\"50249\",\"type\":\"UnionRenderers\"},{\"attributes\":{\"below\":[{\"id\":\"49143\",\"type\":\"LinearAxis\"}],\"left\":[{\"id\":\"49148\",\"type\":\"LinearAxis\"}],\"plot_height\":200,\"plot_width\":200,\"renderers\":[{\"id\":\"49143\",\"type\":\"LinearAxis\"},{\"id\":\"49147\",\"type\":\"Grid\"},{\"id\":\"49148\",\"type\":\"LinearAxis\"},{\"id\":\"49152\",\"type\":\"Grid\"},{\"id\":\"49161\",\"type\":\"BoxAnnotation\"},{\"id\":\"49171\",\"type\":\"GlyphRenderer\"}],\"title\":{\"id\":\"50236\",\"type\":\"Title\"},\"toolbar\":{\"id\":\"49159\",\"type\":\"Toolbar\"},\"toolbar_location\":null,\"x_range\":{\"id\":\"49135\",\"type\":\"DataRange1d\"},\"x_scale\":{\"id\":\"49139\",\"type\":\"LinearScale\"},\"y_range\":{\"id\":\"49137\",\"type\":\"DataRange1d\"},\"y_scale\":{\"id\":\"49141\",\"type\":\"LinearScale\"}},\"id\":\"49134\",\"subtype\":\"Figure\",\"type\":\"Plot\"},{\"attributes\":{\"below\":[{\"id\":\"49182\",\"type\":\"LinearAxis\"}],\"left\":[{\"id\":\"49187\",\"type\":\"LinearAxis\"}],\"plot_height\":200,\"plot_width\":200,\"renderers\":[{\"id\":\"49182\",\"type\":\"LinearAxis\"},{\"id\":\"49186\",\"type\":\"Grid\"},{\"id\":\"49187\",\"type\":\"LinearAxis\"},{\"id\":\"49191\",\"type\":\"Grid\"},{\"id\":\"49200\",\"type\":\"BoxAnnotation\"},{\"id\":\"49210\",\"type\":\"GlyphRenderer\"}],\"title\":{\"id\":\"50238\",\"type\":\"Title\"},\"toolbar\":{\"id\":\"49198\",\"type\":\"Toolbar\"},\"toolbar_location\":null,\"x_range\":{\"id\":\"49174\",\"type\":\"DataRange1d\"},\"x_scale\":{\"id\":\"49178\",\"type\":\"LinearScale\"},\"y_range\":{\"id\":\"49176\",\"type\":\"DataRange1d\"},\"y_scale\":{\"id\":\"49180\",\"type\":\"LinearScale\"}},\"id\":\"49173\",\"subtype\":\"Figure\",\"type\":\"Plot\"},{\"attributes\":{\"height\":200,\"width\":200},\"id\":\"51540\",\"type\":\"Spacer\"},{\"attributes\":{\"plot\":null,\"text\":\"\"},\"id\":\"50236\",\"type\":\"Title\"},{\"attributes\":{},\"id\":\"49153\",\"type\":\"PanTool\"},{\"attributes\":{},\"id\":\"49178\",\"type\":\"LinearScale\"},{\"attributes\":{\"formatter\":{\"id\":\"50247\",\"type\":\"BasicTickFormatter\"},\"plot\":{\"id\":\"49173\",\"subtype\":\"Figure\",\"type\":\"Plot\"},\"ticker\":{\"id\":\"49188\",\"type\":\"BasicTicker\"}},\"id\":\"49187\",\"type\":\"LinearAxis\"},{\"attributes\":{},\"id\":\"49197\",\"type\":\"HelpTool\"},{\"attributes\":{},\"id\":\"49144\",\"type\":\"BasicTicker\"},{\"attributes\":{\"toolbar\":{\"id\":\"51555\",\"type\":\"ProxyToolbar\"},\"toolbar_location\":\"above\"},\"id\":\"51556\",\"type\":\"ToolbarBox\"},{\"attributes\":{},\"id\":\"49139\",\"type\":\"LinearScale\"},{\"attributes\":{\"line_alpha\":0.1,\"line_color\":\"#1f77b4\",\"x\":{\"field\":\"x\"},\"y\":{\"field\":\"y\"}},\"id\":\"49170\",\"type\":\"Line\"},{\"attributes\":{},\"id\":\"49183\",\"type\":\"BasicTicker\"},{\"attributes\":{},\"id\":\"50247\",\"type\":\"BasicTickFormatter\"},{\"attributes\":{},\"id\":\"49193\",\"type\":\"WheelZoomTool\"},{\"attributes\":{\"dimension\":1,\"plot\":{\"id\":\"49134\",\"subtype\":\"Figure\",\"type\":\"Plot\"},\"ticker\":{\"id\":\"49149\",\"type\":\"BasicTicker\"}},\"id\":\"49152\",\"type\":\"Grid\"},{\"attributes\":{\"line_color\":\"red\",\"x\":{\"field\":\"x\"},\"y\":{\"field\":\"y\"}},\"id\":\"49169\",\"type\":\"Line\"},{\"attributes\":{\"bottom_units\":\"screen\",\"fill_alpha\":{\"value\":0.5},\"fill_color\":{\"value\":\"lightgrey\"},\"left_units\":\"screen\",\"level\":\"overlay\",\"line_alpha\":{\"value\":1.0},\"line_color\":{\"value\":\"black\"},\"line_dash\":[4,4],\"line_width\":{\"value\":2},\"plot\":null,\"render_mode\":\"css\",\"right_units\":\"screen\",\"top_units\":\"screen\"},\"id\":\"49200\",\"type\":\"BoxAnnotation\"},{\"attributes\":{},\"id\":\"49196\",\"type\":\"ResetTool\"},{\"attributes\":{\"callback\":null},\"id\":\"49176\",\"type\":\"DataRange1d\"},{\"attributes\":{},\"id\":\"49188\",\"type\":\"BasicTicker\"},{\"attributes\":{\"tools\":[{\"id\":\"49153\",\"type\":\"PanTool\"},{\"id\":\"49154\",\"type\":\"WheelZoomTool\"},{\"id\":\"49155\",\"type\":\"BoxZoomTool\"},{\"id\":\"49156\",\"type\":\"SaveTool\"},{\"id\":\"49157\",\"type\":\"ResetTool\"},{\"id\":\"49158\",\"type\":\"HelpTool\"},{\"id\":\"49192\",\"type\":\"PanTool\"},{\"id\":\"49193\",\"type\":\"WheelZoomTool\"},{\"id\":\"49194\",\"type\":\"BoxZoomTool\"},{\"id\":\"49195\",\"type\":\"SaveTool\"},{\"id\":\"49196\",\"type\":\"ResetTool\"},{\"id\":\"49197\",\"type\":\"HelpTool\"}]},\"id\":\"51555\",\"type\":\"ProxyToolbar\"}],\"root_ids\":[\"51557\"]},\"title\":\"Bokeh Application\",\"version\":\"1.0.4\"}};\n",
       "  var render_items = [{\"docid\":\"e73b86cf-24e3-4936-8e39-f0258a3cc8dd\",\"roots\":{\"51557\":\"98938cf4-ad23-4166-983b-2fa119c9162e\"}}];\n",
       "  root.Bokeh.embed.embed_items_notebook(docs_json, render_items);\n",
       "\n",
       "  }\n",
       "  if (root.Bokeh !== undefined) {\n",
       "    embed_document(root);\n",
       "  } else {\n",
       "    var attempts = 0;\n",
       "    var timer = setInterval(function(root) {\n",
       "      if (root.Bokeh !== undefined) {\n",
       "        embed_document(root);\n",
       "        clearInterval(timer);\n",
       "      }\n",
       "      attempts++;\n",
       "      if (attempts > 100) {\n",
       "        console.log(\"Bokeh: ERROR: Unable to run BokehJS code because BokehJS library is missing\");\n",
       "        clearInterval(timer);\n",
       "      }\n",
       "    }, 10, root)\n",
       "  }\n",
       "})(window);"
      ],
      "application/vnd.bokehjs_exec.v0+json": ""
     },
     "metadata": {
      "application/vnd.bokehjs_exec.v0+json": {
       "id": "51557"
      }
     },
     "output_type": "display_data"
    }
   ],
   "source": [
    "#horizontal layout + GRID layouts\n",
    "print(\"HORIZONTAL LAYOUT\")\n",
    "show(row(plot1, plot2))\n",
    "\n",
    "print(\"GRID LAYOUT\")\n",
    "show(gridplot([[plot1, None], [None, plot2]]))"
   ]
  },
  {
   "cell_type": "markdown",
   "metadata": {},
   "source": [
    "Ok, now that basics have been introduced, let's look at something more interesting/fun =D (i.e. work with real data instead of stuff I made up)"
   ]
  },
  {
   "cell_type": "code",
   "execution_count": null,
   "metadata": {},
   "outputs": [],
   "source": []
  },
  {
   "cell_type": "code",
   "execution_count": null,
   "metadata": {},
   "outputs": [],
   "source": []
  },
  {
   "cell_type": "code",
   "execution_count": null,
   "metadata": {
    "scrolled": true
   },
   "outputs": [],
   "source": []
  },
  {
   "cell_type": "code",
   "execution_count": null,
   "metadata": {},
   "outputs": [],
   "source": []
  },
  {
   "cell_type": "code",
   "execution_count": null,
   "metadata": {},
   "outputs": [],
   "source": []
  },
  {
   "cell_type": "code",
   "execution_count": null,
   "metadata": {},
   "outputs": [],
   "source": []
  },
  {
   "cell_type": "code",
   "execution_count": null,
   "metadata": {},
   "outputs": [],
   "source": []
  },
  {
   "cell_type": "code",
   "execution_count": null,
   "metadata": {},
   "outputs": [],
   "source": []
  },
  {
   "cell_type": "code",
   "execution_count": null,
   "metadata": {},
   "outputs": [],
   "source": []
  },
  {
   "cell_type": "code",
   "execution_count": null,
   "metadata": {},
   "outputs": [],
   "source": []
  }
 ],
 "metadata": {
  "kernelspec": {
   "display_name": "Python 3",
   "language": "python",
   "name": "python3"
  },
  "language_info": {
   "codemirror_mode": {
    "name": "ipython",
    "version": 3
   },
   "file_extension": ".py",
   "mimetype": "text/x-python",
   "name": "python",
   "nbconvert_exporter": "python",
   "pygments_lexer": "ipython3",
   "version": "3.6.8"
  }
 },
 "nbformat": 4,
 "nbformat_minor": 2
}
